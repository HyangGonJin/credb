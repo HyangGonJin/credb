{
 "cells": [
  {
   "cell_type": "markdown",
   "metadata": {
    "id": "J-IQq8vz_rxl"
   },
   "source": [
    "## Import libraries\n"
   ]
  },
  {
   "cell_type": "code",
   "execution_count": 1,
   "metadata": {
    "executionInfo": {
     "elapsed": 691,
     "status": "ok",
     "timestamp": 1608103798589,
     "user": {
      "displayName": "HyangGon JIn",
      "photoUrl": "https://lh3.googleusercontent.com/a-/AOh14GhGfu2HMaWl_Q0Nun8FZ890egbm7-AecA0x1okBizc=s64",
      "userId": "13336827823234602995"
     },
     "user_tz": -540
    },
    "id": "AOmydaf5DkOR"
   },
   "outputs": [],
   "source": [
    "import os"
   ]
  },
  {
   "cell_type": "code",
   "execution_count": 2,
   "metadata": {
    "executionInfo": {
     "elapsed": 749,
     "status": "ok",
     "timestamp": 1608104021354,
     "user": {
      "displayName": "HyangGon JIn",
      "photoUrl": "https://lh3.googleusercontent.com/a-/AOh14GhGfu2HMaWl_Q0Nun8FZ890egbm7-AecA0x1okBizc=s64",
      "userId": "13336827823234602995"
     },
     "user_tz": -540
    },
    "id": "_qANxoV2EKk9"
   },
   "outputs": [],
   "source": [
    "os.chdir('../../data/credb')"
   ]
  },
  {
   "cell_type": "code",
   "execution_count": 3,
   "metadata": {
    "executionInfo": {
     "elapsed": 707,
     "status": "ok",
     "timestamp": 1608104023810,
     "user": {
      "displayName": "HyangGon JIn",
      "photoUrl": "https://lh3.googleusercontent.com/a-/AOh14GhGfu2HMaWl_Q0Nun8FZ890egbm7-AecA0x1okBizc=s64",
      "userId": "13336827823234602995"
     },
     "user_tz": -540
    },
    "id": "g0aHbaFlE2-A"
   },
   "outputs": [],
   "source": [
    "import warnings\n",
    "warnings.filterwarnings(\"ignore\")"
   ]
  },
  {
   "cell_type": "code",
   "execution_count": 4,
   "metadata": {
    "executionInfo": {
     "elapsed": 1693,
     "status": "ok",
     "timestamp": 1608104026027,
     "user": {
      "displayName": "HyangGon JIn",
      "photoUrl": "https://lh3.googleusercontent.com/a-/AOh14GhGfu2HMaWl_Q0Nun8FZ890egbm7-AecA0x1okBizc=s64",
      "userId": "13336827823234602995"
     },
     "user_tz": -540
    },
    "id": "T5VmDcXxDy5r"
   },
   "outputs": [],
   "source": [
    "import pandas as pd\n",
    "import numpy as np\n",
    "import matplotlib.pyplot as plt\n",
    "import seaborn as sns\n",
    "import datetime as dt"
   ]
  },
  {
   "cell_type": "markdown",
   "metadata": {},
   "source": [
    "## 2차자료 설명\n",
    "   \n",
    "    join_key : 차주 id\n",
    "    gender : 성별\n",
    "    ln_amt : 기준시점 기준, 총 대출금액\n",
    "    num_overdue : 기준시점 기준, 연체 건수\n",
    "    dlq : 기준시점 이전, 연체 경험 여부\n",
    "    ex_long : 기준시점 이전, 장기연체 경험 여부\n",
    "    long : 2018년 내 장기연체 여부\n",
    "    num_loan : 기준시점 이전, 총 대출 건수\n",
    "    repay_rate : 기준시점 기준, 대출규모 대비 상환율\n",
    "    over_3y : 신용거래(첫 대출 이후) 3년 이상 여부\n",
    "    cnt_1st : 1금융권 대출 보유 건수\n",
    "    cnt_2nd : 2금융권 대출 보유 건수\n",
    "    cnt_card : 신용카드사 상품 보유 건수\n",
    "    cnt_insurance : 보험사 상품 보유 건수"
   ]
  },
  {
   "cell_type": "code",
   "execution_count": 5,
   "metadata": {
    "executionInfo": {
     "elapsed": 1474,
     "status": "ok",
     "timestamp": 1608104872011,
     "user": {
      "displayName": "HyangGon JIn",
      "photoUrl": "https://lh3.googleusercontent.com/a-/AOh14GhGfu2HMaWl_Q0Nun8FZ890egbm7-AecA0x1okBizc=s64",
      "userId": "13336827823234602995"
     },
     "user_tz": -540
    },
    "id": "KmM0LjRGnxu0"
   },
   "outputs": [],
   "source": [
    "dat = pd.read_csv(\"credb.csv\")"
   ]
  },
  {
   "cell_type": "code",
   "execution_count": 6,
   "metadata": {},
   "outputs": [
    {
     "data": {
      "text/plain": [
       "join_key         0\n",
       "gender           0\n",
       "ln_amt           0\n",
       "dlq_amt          0\n",
       "num_overdue      0\n",
       "ex_long          0\n",
       "long             0\n",
       "num_loan         0\n",
       "repay_rate       0\n",
       "over_3y          0\n",
       "cnt_1st          0\n",
       "cnt_2nd          0\n",
       "cnt_card         0\n",
       "cnt_insurance    0\n",
       "age              0\n",
       "dtype: int64"
      ]
     },
     "execution_count": 6,
     "metadata": {},
     "output_type": "execute_result"
    }
   ],
   "source": [
    "dat.isnull().sum()"
   ]
  },
  {
   "cell_type": "code",
   "execution_count": 7,
   "metadata": {},
   "outputs": [
    {
     "data": {
      "text/html": [
       "<div>\n",
       "<style scoped>\n",
       "    .dataframe tbody tr th:only-of-type {\n",
       "        vertical-align: middle;\n",
       "    }\n",
       "\n",
       "    .dataframe tbody tr th {\n",
       "        vertical-align: top;\n",
       "    }\n",
       "\n",
       "    .dataframe thead th {\n",
       "        text-align: right;\n",
       "    }\n",
       "</style>\n",
       "<table border=\"1\" class=\"dataframe\">\n",
       "  <thead>\n",
       "    <tr style=\"text-align: right;\">\n",
       "      <th></th>\n",
       "      <th>gender</th>\n",
       "      <th>ln_amt</th>\n",
       "      <th>dlq_amt</th>\n",
       "      <th>num_overdue</th>\n",
       "      <th>ex_long</th>\n",
       "      <th>long</th>\n",
       "      <th>num_loan</th>\n",
       "      <th>repay_rate</th>\n",
       "      <th>over_3y</th>\n",
       "      <th>cnt_1st</th>\n",
       "      <th>cnt_2nd</th>\n",
       "      <th>cnt_card</th>\n",
       "      <th>cnt_insurance</th>\n",
       "      <th>age</th>\n",
       "    </tr>\n",
       "  </thead>\n",
       "  <tbody>\n",
       "    <tr>\n",
       "      <th>count</th>\n",
       "      <td>494.000000</td>\n",
       "      <td>4.940000e+02</td>\n",
       "      <td>494.000000</td>\n",
       "      <td>494.000000</td>\n",
       "      <td>494.000000</td>\n",
       "      <td>494.000000</td>\n",
       "      <td>494.000000</td>\n",
       "      <td>494.000000</td>\n",
       "      <td>494.000000</td>\n",
       "      <td>494.000000</td>\n",
       "      <td>494.000000</td>\n",
       "      <td>494.000000</td>\n",
       "      <td>494.000000</td>\n",
       "      <td>494.000000</td>\n",
       "    </tr>\n",
       "    <tr>\n",
       "      <th>mean</th>\n",
       "      <td>1.378543</td>\n",
       "      <td>8.216249e+04</td>\n",
       "      <td>790.141700</td>\n",
       "      <td>0.105263</td>\n",
       "      <td>0.089069</td>\n",
       "      <td>0.054656</td>\n",
       "      <td>0.178138</td>\n",
       "      <td>0.976874</td>\n",
       "      <td>0.412955</td>\n",
       "      <td>1.506073</td>\n",
       "      <td>0.198381</td>\n",
       "      <td>0.419028</td>\n",
       "      <td>0.046559</td>\n",
       "      <td>45.483806</td>\n",
       "    </tr>\n",
       "    <tr>\n",
       "      <th>std</th>\n",
       "      <td>0.485515</td>\n",
       "      <td>1.308206e+05</td>\n",
       "      <td>5650.224195</td>\n",
       "      <td>0.460457</td>\n",
       "      <td>0.285132</td>\n",
       "      <td>0.227538</td>\n",
       "      <td>0.671536</td>\n",
       "      <td>0.111693</td>\n",
       "      <td>0.492864</td>\n",
       "      <td>0.822456</td>\n",
       "      <td>0.588184</td>\n",
       "      <td>0.984938</td>\n",
       "      <td>0.220313</td>\n",
       "      <td>12.342260</td>\n",
       "    </tr>\n",
       "    <tr>\n",
       "      <th>min</th>\n",
       "      <td>1.000000</td>\n",
       "      <td>1.000000e+02</td>\n",
       "      <td>0.000000</td>\n",
       "      <td>0.000000</td>\n",
       "      <td>0.000000</td>\n",
       "      <td>0.000000</td>\n",
       "      <td>0.000000</td>\n",
       "      <td>0.013333</td>\n",
       "      <td>0.000000</td>\n",
       "      <td>1.000000</td>\n",
       "      <td>0.000000</td>\n",
       "      <td>0.000000</td>\n",
       "      <td>0.000000</td>\n",
       "      <td>18.000000</td>\n",
       "    </tr>\n",
       "    <tr>\n",
       "      <th>25%</th>\n",
       "      <td>1.000000</td>\n",
       "      <td>1.012500e+04</td>\n",
       "      <td>0.000000</td>\n",
       "      <td>0.000000</td>\n",
       "      <td>0.000000</td>\n",
       "      <td>0.000000</td>\n",
       "      <td>0.000000</td>\n",
       "      <td>1.000000</td>\n",
       "      <td>0.000000</td>\n",
       "      <td>1.000000</td>\n",
       "      <td>0.000000</td>\n",
       "      <td>0.000000</td>\n",
       "      <td>0.000000</td>\n",
       "      <td>36.000000</td>\n",
       "    </tr>\n",
       "    <tr>\n",
       "      <th>50%</th>\n",
       "      <td>1.000000</td>\n",
       "      <td>4.000000e+04</td>\n",
       "      <td>0.000000</td>\n",
       "      <td>0.000000</td>\n",
       "      <td>0.000000</td>\n",
       "      <td>0.000000</td>\n",
       "      <td>0.000000</td>\n",
       "      <td>1.000000</td>\n",
       "      <td>0.000000</td>\n",
       "      <td>1.000000</td>\n",
       "      <td>0.000000</td>\n",
       "      <td>0.000000</td>\n",
       "      <td>0.000000</td>\n",
       "      <td>44.000000</td>\n",
       "    </tr>\n",
       "    <tr>\n",
       "      <th>75%</th>\n",
       "      <td>2.000000</td>\n",
       "      <td>1.000000e+05</td>\n",
       "      <td>0.000000</td>\n",
       "      <td>0.000000</td>\n",
       "      <td>0.000000</td>\n",
       "      <td>0.000000</td>\n",
       "      <td>0.000000</td>\n",
       "      <td>1.000000</td>\n",
       "      <td>1.000000</td>\n",
       "      <td>2.000000</td>\n",
       "      <td>0.000000</td>\n",
       "      <td>0.000000</td>\n",
       "      <td>0.000000</td>\n",
       "      <td>53.000000</td>\n",
       "    </tr>\n",
       "    <tr>\n",
       "      <th>max</th>\n",
       "      <td>2.000000</td>\n",
       "      <td>1.800000e+06</td>\n",
       "      <td>83600.000000</td>\n",
       "      <td>4.000000</td>\n",
       "      <td>1.000000</td>\n",
       "      <td>1.000000</td>\n",
       "      <td>5.000000</td>\n",
       "      <td>1.000000</td>\n",
       "      <td>1.000000</td>\n",
       "      <td>6.000000</td>\n",
       "      <td>5.000000</td>\n",
       "      <td>6.000000</td>\n",
       "      <td>2.000000</td>\n",
       "      <td>82.000000</td>\n",
       "    </tr>\n",
       "  </tbody>\n",
       "</table>\n",
       "</div>"
      ],
      "text/plain": [
       "           gender        ln_amt       dlq_amt  num_overdue     ex_long  \\\n",
       "count  494.000000  4.940000e+02    494.000000   494.000000  494.000000   \n",
       "mean     1.378543  8.216249e+04    790.141700     0.105263    0.089069   \n",
       "std      0.485515  1.308206e+05   5650.224195     0.460457    0.285132   \n",
       "min      1.000000  1.000000e+02      0.000000     0.000000    0.000000   \n",
       "25%      1.000000  1.012500e+04      0.000000     0.000000    0.000000   \n",
       "50%      1.000000  4.000000e+04      0.000000     0.000000    0.000000   \n",
       "75%      2.000000  1.000000e+05      0.000000     0.000000    0.000000   \n",
       "max      2.000000  1.800000e+06  83600.000000     4.000000    1.000000   \n",
       "\n",
       "             long    num_loan  repay_rate     over_3y     cnt_1st     cnt_2nd  \\\n",
       "count  494.000000  494.000000  494.000000  494.000000  494.000000  494.000000   \n",
       "mean     0.054656    0.178138    0.976874    0.412955    1.506073    0.198381   \n",
       "std      0.227538    0.671536    0.111693    0.492864    0.822456    0.588184   \n",
       "min      0.000000    0.000000    0.013333    0.000000    1.000000    0.000000   \n",
       "25%      0.000000    0.000000    1.000000    0.000000    1.000000    0.000000   \n",
       "50%      0.000000    0.000000    1.000000    0.000000    1.000000    0.000000   \n",
       "75%      0.000000    0.000000    1.000000    1.000000    2.000000    0.000000   \n",
       "max      1.000000    5.000000    1.000000    1.000000    6.000000    5.000000   \n",
       "\n",
       "         cnt_card  cnt_insurance         age  \n",
       "count  494.000000     494.000000  494.000000  \n",
       "mean     0.419028       0.046559   45.483806  \n",
       "std      0.984938       0.220313   12.342260  \n",
       "min      0.000000       0.000000   18.000000  \n",
       "25%      0.000000       0.000000   36.000000  \n",
       "50%      0.000000       0.000000   44.000000  \n",
       "75%      0.000000       0.000000   53.000000  \n",
       "max      6.000000       2.000000   82.000000  "
      ]
     },
     "execution_count": 7,
     "metadata": {},
     "output_type": "execute_result"
    }
   ],
   "source": [
    "dat.describe()"
   ]
  },
  {
   "cell_type": "markdown",
   "metadata": {
    "id": "EWOe93qtt3tB"
   },
   "source": [
    "## 범주화\n",
    "\n",
    "    : 로지스틱 회귀방법에 기반한 신용평가 모형개발에서 '연체 건수', '보유대출 건수'와 같은 이산형 변수를 그대로 이용할 경우, 자료 수의 차이 등으로 인해 불안정한 값을 보여주며 불량률에 따른 효과를 정확히 확인할 수 없음. \n",
    "    \n",
    "    : 이에 '항목 유의성 분석'을 통해 다수 그룹으로 세부 분류하여 변별력 및 서열화, 구간별 구성비, 의미의 타당성 등을 고려하여 모형에 포함할 변수를 선별.\n",
    "    \n",
    "    : 이때, 불량률 혹은 오즈비율이 구간에 따라 단조 증가 또는 단조 감소하는 추세가 있는지 확인해야함.\n",
    "\n",
    "\n",
    "[참고문헌] 김종윤, 통신 빅데이터 활용 개인신용평가모형(통신스코어) 개발, 2019.\n"
   ]
  },
  {
   "cell_type": "markdown",
   "metadata": {
    "id": "WoLvasbBepEs"
   },
   "source": [
    "* age_group"
   ]
  },
  {
   "cell_type": "code",
   "execution_count": 8,
   "metadata": {
    "executionInfo": {
     "elapsed": 677,
     "status": "ok",
     "timestamp": 1608104881509,
     "user": {
      "displayName": "HyangGon JIn",
      "photoUrl": "https://lh3.googleusercontent.com/a-/AOh14GhGfu2HMaWl_Q0Nun8FZ890egbm7-AecA0x1okBizc=s64",
      "userId": "13336827823234602995"
     },
     "user_tz": -540
    },
    "id": "Lk2c7DLFepE9"
   },
   "outputs": [],
   "source": [
    "var = 'age'"
   ]
  },
  {
   "cell_type": "code",
   "execution_count": 9,
   "metadata": {
    "executionInfo": {
     "elapsed": 501,
     "status": "ok",
     "timestamp": 1608104882597,
     "user": {
      "displayName": "HyangGon JIn",
      "photoUrl": "https://lh3.googleusercontent.com/a-/AOh14GhGfu2HMaWl_Q0Nun8FZ890egbm7-AecA0x1okBizc=s64",
      "userId": "13336827823234602995"
     },
     "user_tz": -540
    },
    "id": "CPhsEhwDepE9"
   },
   "outputs": [],
   "source": [
    "# cutpoints = list(range(-1,int(dat[var].max())+1))\n",
    "cutpoints = [int(dat[var].min())-1,38,53,int(dat[var].max())+1]"
   ]
  },
  {
   "cell_type": "code",
   "execution_count": 10,
   "metadata": {
    "colab": {
     "base_uri": "https://localhost:8080/",
     "height": 35
    },
    "executionInfo": {
     "elapsed": 660,
     "status": "ok",
     "timestamp": 1608104885799,
     "user": {
      "displayName": "HyangGon JIn",
      "photoUrl": "https://lh3.googleusercontent.com/a-/AOh14GhGfu2HMaWl_Q0Nun8FZ890egbm7-AecA0x1okBizc=s64",
      "userId": "13336827823234602995"
     },
     "user_tz": -540
    },
    "id": "MT8KgK9RepFA",
    "outputId": "21c52344-634a-4ab4-f3df-b47be114f8c4"
   },
   "outputs": [
    {
     "data": {
      "text/plain": [
       "'age_group'"
      ]
     },
     "execution_count": 10,
     "metadata": {},
     "output_type": "execute_result"
    }
   ],
   "source": [
    "group_var = var+'_group'\n",
    "group_var"
   ]
  },
  {
   "cell_type": "code",
   "execution_count": 11,
   "metadata": {
    "colab": {
     "base_uri": "https://localhost:8080/",
     "height": 138
    },
    "executionInfo": {
     "elapsed": 739,
     "status": "ok",
     "timestamp": 1608104958868,
     "user": {
      "displayName": "HyangGon JIn",
      "photoUrl": "https://lh3.googleusercontent.com/a-/AOh14GhGfu2HMaWl_Q0Nun8FZ890egbm7-AecA0x1okBizc=s64",
      "userId": "13336827823234602995"
     },
     "user_tz": -540
    },
    "id": "weMJkDcjheCH",
    "outputId": "2854f2c7-1461-4b5a-d23b-c2c2ca7931e1"
   },
   "outputs": [
    {
     "data": {
      "text/html": [
       "<div>\n",
       "<style scoped>\n",
       "    .dataframe tbody tr th:only-of-type {\n",
       "        vertical-align: middle;\n",
       "    }\n",
       "\n",
       "    .dataframe tbody tr th {\n",
       "        vertical-align: top;\n",
       "    }\n",
       "\n",
       "    .dataframe thead th {\n",
       "        text-align: right;\n",
       "    }\n",
       "</style>\n",
       "<table border=\"1\" class=\"dataframe\">\n",
       "  <thead>\n",
       "    <tr style=\"text-align: right;\">\n",
       "      <th></th>\n",
       "      <th>age_group</th>\n",
       "      <th>join_key</th>\n",
       "      <th>long</th>\n",
       "    </tr>\n",
       "  </thead>\n",
       "  <tbody>\n",
       "    <tr>\n",
       "      <th>0</th>\n",
       "      <td>(17, 38]</td>\n",
       "      <td>151</td>\n",
       "      <td>0.059603</td>\n",
       "    </tr>\n",
       "    <tr>\n",
       "      <th>1</th>\n",
       "      <td>(38, 53]</td>\n",
       "      <td>224</td>\n",
       "      <td>0.058036</td>\n",
       "    </tr>\n",
       "    <tr>\n",
       "      <th>2</th>\n",
       "      <td>(53, 83]</td>\n",
       "      <td>119</td>\n",
       "      <td>0.042017</td>\n",
       "    </tr>\n",
       "  </tbody>\n",
       "</table>\n",
       "</div>"
      ],
      "text/plain": [
       "  age_group  join_key      long\n",
       "0  (17, 38]       151  0.059603\n",
       "1  (38, 53]       224  0.058036\n",
       "2  (53, 83]       119  0.042017"
      ]
     },
     "execution_count": 11,
     "metadata": {},
     "output_type": "execute_result"
    }
   ],
   "source": [
    "dat[group_var] = pd.cut(dat[var],bins=cutpoints)\n",
    "dat.groupby([group_var],as_index=False).agg({'join_key':'count','long':'mean'})"
   ]
  },
  {
   "cell_type": "code",
   "execution_count": 12,
   "metadata": {
    "colab": {
     "base_uri": "https://localhost:8080/",
     "height": 138
    },
    "executionInfo": {
     "elapsed": 1209,
     "status": "ok",
     "timestamp": 1608104996654,
     "user": {
      "displayName": "HyangGon JIn",
      "photoUrl": "https://lh3.googleusercontent.com/a-/AOh14GhGfu2HMaWl_Q0Nun8FZ890egbm7-AecA0x1okBizc=s64",
      "userId": "13336827823234602995"
     },
     "user_tz": -540
    },
    "id": "ZjPcn4PTepFB",
    "outputId": "a042077a-a1cc-4796-84b2-36a69dbebcd8"
   },
   "outputs": [
    {
     "data": {
      "text/html": [
       "<div>\n",
       "<style scoped>\n",
       "    .dataframe tbody tr th:only-of-type {\n",
       "        vertical-align: middle;\n",
       "    }\n",
       "\n",
       "    .dataframe tbody tr th {\n",
       "        vertical-align: top;\n",
       "    }\n",
       "\n",
       "    .dataframe thead th {\n",
       "        text-align: right;\n",
       "    }\n",
       "</style>\n",
       "<table border=\"1\" class=\"dataframe\">\n",
       "  <thead>\n",
       "    <tr style=\"text-align: right;\">\n",
       "      <th></th>\n",
       "      <th>age_group</th>\n",
       "      <th>join_key</th>\n",
       "      <th>long</th>\n",
       "    </tr>\n",
       "  </thead>\n",
       "  <tbody>\n",
       "    <tr>\n",
       "      <th>0</th>\n",
       "      <td>0</td>\n",
       "      <td>151</td>\n",
       "      <td>0.059603</td>\n",
       "    </tr>\n",
       "    <tr>\n",
       "      <th>1</th>\n",
       "      <td>1</td>\n",
       "      <td>224</td>\n",
       "      <td>0.058036</td>\n",
       "    </tr>\n",
       "    <tr>\n",
       "      <th>2</th>\n",
       "      <td>2</td>\n",
       "      <td>119</td>\n",
       "      <td>0.042017</td>\n",
       "    </tr>\n",
       "  </tbody>\n",
       "</table>\n",
       "</div>"
      ],
      "text/plain": [
       "   age_group  join_key      long\n",
       "0          0       151  0.059603\n",
       "1          1       224  0.058036\n",
       "2          2       119  0.042017"
      ]
     },
     "execution_count": 12,
     "metadata": {},
     "output_type": "execute_result"
    }
   ],
   "source": [
    "dat[group_var] = pd.cut(dat[var],bins=cutpoints,labels=False)\n",
    "dat.groupby([group_var],as_index=False).agg({'join_key':'count','long':'mean'})"
   ]
  },
  {
   "cell_type": "code",
   "execution_count": 13,
   "metadata": {
    "colab": {
     "base_uri": "https://localhost:8080/"
    },
    "executionInfo": {
     "elapsed": 785,
     "status": "ok",
     "timestamp": 1608105002694,
     "user": {
      "displayName": "HyangGon JIn",
      "photoUrl": "https://lh3.googleusercontent.com/a-/AOh14GhGfu2HMaWl_Q0Nun8FZ890egbm7-AecA0x1okBizc=s64",
      "userId": "13336827823234602995"
     },
     "user_tz": -540
    },
    "id": "j6OQuHp9epFC",
    "outputId": "362cdf1f-1633-4343-cf7a-359aebabc159"
   },
   "outputs": [
    {
     "data": {
      "text/plain": [
       "0"
      ]
     },
     "execution_count": 13,
     "metadata": {},
     "output_type": "execute_result"
    }
   ],
   "source": [
    "dat[group_var].isna().sum()"
   ]
  },
  {
   "cell_type": "code",
   "execution_count": 14,
   "metadata": {
    "executionInfo": {
     "elapsed": 757,
     "status": "ok",
     "timestamp": 1608105013385,
     "user": {
      "displayName": "HyangGon JIn",
      "photoUrl": "https://lh3.googleusercontent.com/a-/AOh14GhGfu2HMaWl_Q0Nun8FZ890egbm7-AecA0x1okBizc=s64",
      "userId": "13336827823234602995"
     },
     "user_tz": -540
    },
    "id": "LGAnmWkPepFD"
   },
   "outputs": [],
   "source": [
    "dat[group_var] = dat[group_var].astype('object')"
   ]
  },
  {
   "cell_type": "code",
   "execution_count": null,
   "metadata": {},
   "outputs": [],
   "source": []
  },
  {
   "cell_type": "markdown",
   "metadata": {},
   "source": [
    "* num_overdue"
   ]
  },
  {
   "cell_type": "code",
   "execution_count": 15,
   "metadata": {
    "id": "yJh_f1lLxBb7"
   },
   "outputs": [],
   "source": [
    "var = 'num_overdue'"
   ]
  },
  {
   "cell_type": "code",
   "execution_count": 16,
   "metadata": {
    "colab": {
     "base_uri": "https://localhost:8080/",
     "height": 35
    },
    "executionInfo": {
     "elapsed": 2605,
     "status": "ok",
     "timestamp": 1607668602258,
     "user": {
      "displayName": "HyangGon JIn",
      "photoUrl": "https://lh3.googleusercontent.com/a-/AOh14GhGfu2HMaWl_Q0Nun8FZ890egbm7-AecA0x1okBizc=s64",
      "userId": "13336827823234602995"
     },
     "user_tz": -540
    },
    "id": "Kj8T9Qw3xwzu",
    "outputId": "649530aa-8cb0-48f7-a4f6-b99383d7d115"
   },
   "outputs": [
    {
     "data": {
      "text/plain": [
       "'num_overdue_group'"
      ]
     },
     "execution_count": 16,
     "metadata": {},
     "output_type": "execute_result"
    }
   ],
   "source": [
    "group_var = var+'_group'\n",
    "group_var"
   ]
  },
  {
   "cell_type": "code",
   "execution_count": 17,
   "metadata": {
    "id": "-RJs4d0MwbXH"
   },
   "outputs": [],
   "source": [
    "# cutpoints = list(range(-1,int(dat[var].max())))\n",
    "cutpoints = [-1,0,1,int(dat[var].max())]"
   ]
  },
  {
   "cell_type": "code",
   "execution_count": 18,
   "metadata": {},
   "outputs": [
    {
     "data": {
      "text/html": [
       "<div>\n",
       "<style scoped>\n",
       "    .dataframe tbody tr th:only-of-type {\n",
       "        vertical-align: middle;\n",
       "    }\n",
       "\n",
       "    .dataframe tbody tr th {\n",
       "        vertical-align: top;\n",
       "    }\n",
       "\n",
       "    .dataframe thead th {\n",
       "        text-align: right;\n",
       "    }\n",
       "</style>\n",
       "<table border=\"1\" class=\"dataframe\">\n",
       "  <thead>\n",
       "    <tr style=\"text-align: right;\">\n",
       "      <th></th>\n",
       "      <th>num_overdue_group</th>\n",
       "      <th>join_key</th>\n",
       "      <th>long</th>\n",
       "    </tr>\n",
       "  </thead>\n",
       "  <tbody>\n",
       "    <tr>\n",
       "      <th>0</th>\n",
       "      <td>(-1, 0]</td>\n",
       "      <td>463</td>\n",
       "      <td>0.028078</td>\n",
       "    </tr>\n",
       "    <tr>\n",
       "      <th>1</th>\n",
       "      <td>(0, 1]</td>\n",
       "      <td>17</td>\n",
       "      <td>0.411765</td>\n",
       "    </tr>\n",
       "    <tr>\n",
       "      <th>2</th>\n",
       "      <td>(1, 4]</td>\n",
       "      <td>14</td>\n",
       "      <td>0.500000</td>\n",
       "    </tr>\n",
       "  </tbody>\n",
       "</table>\n",
       "</div>"
      ],
      "text/plain": [
       "  num_overdue_group  join_key      long\n",
       "0           (-1, 0]       463  0.028078\n",
       "1            (0, 1]        17  0.411765\n",
       "2            (1, 4]        14  0.500000"
      ]
     },
     "execution_count": 18,
     "metadata": {},
     "output_type": "execute_result"
    }
   ],
   "source": [
    "dat[group_var] = pd.cut(dat[var],bins=cutpoints)\n",
    "dat.groupby([group_var],as_index=False).agg({'join_key':'count','long':'mean'})"
   ]
  },
  {
   "cell_type": "code",
   "execution_count": 19,
   "metadata": {
    "id": "vzQgvrzzwbPg"
   },
   "outputs": [
    {
     "data": {
      "text/html": [
       "<div>\n",
       "<style scoped>\n",
       "    .dataframe tbody tr th:only-of-type {\n",
       "        vertical-align: middle;\n",
       "    }\n",
       "\n",
       "    .dataframe tbody tr th {\n",
       "        vertical-align: top;\n",
       "    }\n",
       "\n",
       "    .dataframe thead th {\n",
       "        text-align: right;\n",
       "    }\n",
       "</style>\n",
       "<table border=\"1\" class=\"dataframe\">\n",
       "  <thead>\n",
       "    <tr style=\"text-align: right;\">\n",
       "      <th></th>\n",
       "      <th>num_overdue_group</th>\n",
       "      <th>join_key</th>\n",
       "      <th>long</th>\n",
       "    </tr>\n",
       "  </thead>\n",
       "  <tbody>\n",
       "    <tr>\n",
       "      <th>0</th>\n",
       "      <td>0</td>\n",
       "      <td>463</td>\n",
       "      <td>0.028078</td>\n",
       "    </tr>\n",
       "    <tr>\n",
       "      <th>1</th>\n",
       "      <td>1</td>\n",
       "      <td>17</td>\n",
       "      <td>0.411765</td>\n",
       "    </tr>\n",
       "    <tr>\n",
       "      <th>2</th>\n",
       "      <td>2</td>\n",
       "      <td>14</td>\n",
       "      <td>0.500000</td>\n",
       "    </tr>\n",
       "  </tbody>\n",
       "</table>\n",
       "</div>"
      ],
      "text/plain": [
       "   num_overdue_group  join_key      long\n",
       "0                  0       463  0.028078\n",
       "1                  1        17  0.411765\n",
       "2                  2        14  0.500000"
      ]
     },
     "execution_count": 19,
     "metadata": {},
     "output_type": "execute_result"
    }
   ],
   "source": [
    "dat[group_var] = pd.cut(dat[var],bins=cutpoints,labels=False)\n",
    "dat.groupby([group_var],as_index=False).agg({'join_key':'count','long':'mean'})"
   ]
  },
  {
   "cell_type": "code",
   "execution_count": 20,
   "metadata": {
    "colab": {
     "base_uri": "https://localhost:8080/"
    },
    "executionInfo": {
     "elapsed": 2582,
     "status": "ok",
     "timestamp": 1607668602260,
     "user": {
      "displayName": "HyangGon JIn",
      "photoUrl": "https://lh3.googleusercontent.com/a-/AOh14GhGfu2HMaWl_Q0Nun8FZ890egbm7-AecA0x1okBizc=s64",
      "userId": "13336827823234602995"
     },
     "user_tz": -540
    },
    "id": "AYYv0pthcn2C",
    "outputId": "949c6602-a20a-41d2-e56c-3cba47ff2776"
   },
   "outputs": [
    {
     "data": {
      "text/plain": [
       "0"
      ]
     },
     "execution_count": 20,
     "metadata": {},
     "output_type": "execute_result"
    }
   ],
   "source": [
    "dat[group_var].isna().sum()"
   ]
  },
  {
   "cell_type": "code",
   "execution_count": 21,
   "metadata": {
    "id": "HKvlg9fnUg4_"
   },
   "outputs": [],
   "source": [
    "dat[group_var] = np.max(dat[group_var]) - dat[group_var].values"
   ]
  },
  {
   "cell_type": "code",
   "execution_count": 22,
   "metadata": {
    "id": "U3RmQc-4mzuD"
   },
   "outputs": [],
   "source": [
    "dat[group_var] = dat[group_var].astype('object')"
   ]
  },
  {
   "cell_type": "code",
   "execution_count": null,
   "metadata": {},
   "outputs": [],
   "source": []
  },
  {
   "cell_type": "markdown",
   "metadata": {},
   "source": [
    "* num_loan"
   ]
  },
  {
   "cell_type": "code",
   "execution_count": 23,
   "metadata": {
    "id": "yJh_f1lLxBb7"
   },
   "outputs": [],
   "source": [
    "var = 'num_loan'"
   ]
  },
  {
   "cell_type": "code",
   "execution_count": 24,
   "metadata": {
    "colab": {
     "base_uri": "https://localhost:8080/",
     "height": 35
    },
    "executionInfo": {
     "elapsed": 2605,
     "status": "ok",
     "timestamp": 1607668602258,
     "user": {
      "displayName": "HyangGon JIn",
      "photoUrl": "https://lh3.googleusercontent.com/a-/AOh14GhGfu2HMaWl_Q0Nun8FZ890egbm7-AecA0x1okBizc=s64",
      "userId": "13336827823234602995"
     },
     "user_tz": -540
    },
    "id": "Kj8T9Qw3xwzu",
    "outputId": "649530aa-8cb0-48f7-a4f6-b99383d7d115"
   },
   "outputs": [
    {
     "data": {
      "text/plain": [
       "'num_loan_group'"
      ]
     },
     "execution_count": 24,
     "metadata": {},
     "output_type": "execute_result"
    }
   ],
   "source": [
    "group_var = var+'_group'\n",
    "group_var"
   ]
  },
  {
   "cell_type": "code",
   "execution_count": 25,
   "metadata": {
    "id": "-RJs4d0MwbXH"
   },
   "outputs": [],
   "source": [
    "# cutpoints = list(range(-1,int(dat[var].max())+1))\n",
    "cutpoints = [-1,0,1,int(dat[var].max())]"
   ]
  },
  {
   "cell_type": "code",
   "execution_count": 26,
   "metadata": {},
   "outputs": [
    {
     "data": {
      "text/html": [
       "<div>\n",
       "<style scoped>\n",
       "    .dataframe tbody tr th:only-of-type {\n",
       "        vertical-align: middle;\n",
       "    }\n",
       "\n",
       "    .dataframe tbody tr th {\n",
       "        vertical-align: top;\n",
       "    }\n",
       "\n",
       "    .dataframe thead th {\n",
       "        text-align: right;\n",
       "    }\n",
       "</style>\n",
       "<table border=\"1\" class=\"dataframe\">\n",
       "  <thead>\n",
       "    <tr style=\"text-align: right;\">\n",
       "      <th></th>\n",
       "      <th>num_loan_group</th>\n",
       "      <th>join_key</th>\n",
       "      <th>long</th>\n",
       "    </tr>\n",
       "  </thead>\n",
       "  <tbody>\n",
       "    <tr>\n",
       "      <th>0</th>\n",
       "      <td>(-1, 0]</td>\n",
       "      <td>448</td>\n",
       "      <td>0.015625</td>\n",
       "    </tr>\n",
       "    <tr>\n",
       "      <th>1</th>\n",
       "      <td>(0, 1]</td>\n",
       "      <td>24</td>\n",
       "      <td>0.333333</td>\n",
       "    </tr>\n",
       "    <tr>\n",
       "      <th>2</th>\n",
       "      <td>(1, 5]</td>\n",
       "      <td>22</td>\n",
       "      <td>0.545455</td>\n",
       "    </tr>\n",
       "  </tbody>\n",
       "</table>\n",
       "</div>"
      ],
      "text/plain": [
       "  num_loan_group  join_key      long\n",
       "0        (-1, 0]       448  0.015625\n",
       "1         (0, 1]        24  0.333333\n",
       "2         (1, 5]        22  0.545455"
      ]
     },
     "execution_count": 26,
     "metadata": {},
     "output_type": "execute_result"
    }
   ],
   "source": [
    "dat[group_var] = pd.cut(dat[var],bins=cutpoints)\n",
    "dat.groupby([group_var],as_index=False).agg({'join_key':'count','long':'mean'})"
   ]
  },
  {
   "cell_type": "code",
   "execution_count": 27,
   "metadata": {
    "id": "vzQgvrzzwbPg"
   },
   "outputs": [
    {
     "data": {
      "text/html": [
       "<div>\n",
       "<style scoped>\n",
       "    .dataframe tbody tr th:only-of-type {\n",
       "        vertical-align: middle;\n",
       "    }\n",
       "\n",
       "    .dataframe tbody tr th {\n",
       "        vertical-align: top;\n",
       "    }\n",
       "\n",
       "    .dataframe thead th {\n",
       "        text-align: right;\n",
       "    }\n",
       "</style>\n",
       "<table border=\"1\" class=\"dataframe\">\n",
       "  <thead>\n",
       "    <tr style=\"text-align: right;\">\n",
       "      <th></th>\n",
       "      <th>num_loan_group</th>\n",
       "      <th>join_key</th>\n",
       "      <th>long</th>\n",
       "    </tr>\n",
       "  </thead>\n",
       "  <tbody>\n",
       "    <tr>\n",
       "      <th>0</th>\n",
       "      <td>0</td>\n",
       "      <td>448</td>\n",
       "      <td>0.015625</td>\n",
       "    </tr>\n",
       "    <tr>\n",
       "      <th>1</th>\n",
       "      <td>1</td>\n",
       "      <td>24</td>\n",
       "      <td>0.333333</td>\n",
       "    </tr>\n",
       "    <tr>\n",
       "      <th>2</th>\n",
       "      <td>2</td>\n",
       "      <td>22</td>\n",
       "      <td>0.545455</td>\n",
       "    </tr>\n",
       "  </tbody>\n",
       "</table>\n",
       "</div>"
      ],
      "text/plain": [
       "   num_loan_group  join_key      long\n",
       "0               0       448  0.015625\n",
       "1               1        24  0.333333\n",
       "2               2        22  0.545455"
      ]
     },
     "execution_count": 27,
     "metadata": {},
     "output_type": "execute_result"
    }
   ],
   "source": [
    "dat[group_var] = pd.cut(dat[var],bins=cutpoints,labels=False)\n",
    "dat.groupby([group_var],as_index=False).agg({'join_key':'count','long':'mean'})"
   ]
  },
  {
   "cell_type": "code",
   "execution_count": 28,
   "metadata": {
    "colab": {
     "base_uri": "https://localhost:8080/"
    },
    "executionInfo": {
     "elapsed": 2582,
     "status": "ok",
     "timestamp": 1607668602260,
     "user": {
      "displayName": "HyangGon JIn",
      "photoUrl": "https://lh3.googleusercontent.com/a-/AOh14GhGfu2HMaWl_Q0Nun8FZ890egbm7-AecA0x1okBizc=s64",
      "userId": "13336827823234602995"
     },
     "user_tz": -540
    },
    "id": "AYYv0pthcn2C",
    "outputId": "949c6602-a20a-41d2-e56c-3cba47ff2776"
   },
   "outputs": [
    {
     "data": {
      "text/plain": [
       "0"
      ]
     },
     "execution_count": 28,
     "metadata": {},
     "output_type": "execute_result"
    }
   ],
   "source": [
    "dat[group_var].isna().sum()"
   ]
  },
  {
   "cell_type": "code",
   "execution_count": 29,
   "metadata": {
    "id": "HKvlg9fnUg4_"
   },
   "outputs": [],
   "source": [
    "dat[group_var] = np.max(dat[group_var]) - dat[group_var].values"
   ]
  },
  {
   "cell_type": "code",
   "execution_count": 30,
   "metadata": {
    "id": "U3RmQc-4mzuD"
   },
   "outputs": [],
   "source": [
    "dat[group_var] = dat[group_var].astype('object')"
   ]
  },
  {
   "cell_type": "code",
   "execution_count": null,
   "metadata": {
    "id": "VxXES0n8xKun"
   },
   "outputs": [],
   "source": []
  },
  {
   "cell_type": "markdown",
   "metadata": {},
   "source": [
    "* repay_rate"
   ]
  },
  {
   "cell_type": "code",
   "execution_count": 31,
   "metadata": {
    "id": "yJh_f1lLxBb7"
   },
   "outputs": [],
   "source": [
    "var = 'repay_rate'"
   ]
  },
  {
   "cell_type": "code",
   "execution_count": 32,
   "metadata": {
    "colab": {
     "base_uri": "https://localhost:8080/",
     "height": 35
    },
    "executionInfo": {
     "elapsed": 2605,
     "status": "ok",
     "timestamp": 1607668602258,
     "user": {
      "displayName": "HyangGon JIn",
      "photoUrl": "https://lh3.googleusercontent.com/a-/AOh14GhGfu2HMaWl_Q0Nun8FZ890egbm7-AecA0x1okBizc=s64",
      "userId": "13336827823234602995"
     },
     "user_tz": -540
    },
    "id": "Kj8T9Qw3xwzu",
    "outputId": "649530aa-8cb0-48f7-a4f6-b99383d7d115"
   },
   "outputs": [
    {
     "data": {
      "text/plain": [
       "'repay_rate_group'"
      ]
     },
     "execution_count": 32,
     "metadata": {},
     "output_type": "execute_result"
    }
   ],
   "source": [
    "group_var = var+'_group'\n",
    "group_var"
   ]
  },
  {
   "cell_type": "code",
   "execution_count": 33,
   "metadata": {
    "id": "-RJs4d0MwbXH"
   },
   "outputs": [],
   "source": [
    "# cutpoints = list(np.arange(0,1.2,step=0.2))\n",
    "cutpoints = [0,0.5,0.8,1]"
   ]
  },
  {
   "cell_type": "code",
   "execution_count": 34,
   "metadata": {},
   "outputs": [
    {
     "data": {
      "text/html": [
       "<div>\n",
       "<style scoped>\n",
       "    .dataframe tbody tr th:only-of-type {\n",
       "        vertical-align: middle;\n",
       "    }\n",
       "\n",
       "    .dataframe tbody tr th {\n",
       "        vertical-align: top;\n",
       "    }\n",
       "\n",
       "    .dataframe thead th {\n",
       "        text-align: right;\n",
       "    }\n",
       "</style>\n",
       "<table border=\"1\" class=\"dataframe\">\n",
       "  <thead>\n",
       "    <tr style=\"text-align: right;\">\n",
       "      <th></th>\n",
       "      <th>repay_rate_group</th>\n",
       "      <th>join_key</th>\n",
       "      <th>long</th>\n",
       "    </tr>\n",
       "  </thead>\n",
       "  <tbody>\n",
       "    <tr>\n",
       "      <th>0</th>\n",
       "      <td>(0.0, 0.5]</td>\n",
       "      <td>12</td>\n",
       "      <td>0.500000</td>\n",
       "    </tr>\n",
       "    <tr>\n",
       "      <th>1</th>\n",
       "      <td>(0.5, 0.8]</td>\n",
       "      <td>9</td>\n",
       "      <td>0.222222</td>\n",
       "    </tr>\n",
       "    <tr>\n",
       "      <th>2</th>\n",
       "      <td>(0.8, 1.0]</td>\n",
       "      <td>473</td>\n",
       "      <td>0.040169</td>\n",
       "    </tr>\n",
       "  </tbody>\n",
       "</table>\n",
       "</div>"
      ],
      "text/plain": [
       "  repay_rate_group  join_key      long\n",
       "0       (0.0, 0.5]        12  0.500000\n",
       "1       (0.5, 0.8]         9  0.222222\n",
       "2       (0.8, 1.0]       473  0.040169"
      ]
     },
     "execution_count": 34,
     "metadata": {},
     "output_type": "execute_result"
    }
   ],
   "source": [
    "dat[group_var] = pd.cut(dat[var],bins=cutpoints)\n",
    "dat.groupby([group_var],as_index=False).agg({'join_key':'count','long':'mean'})"
   ]
  },
  {
   "cell_type": "code",
   "execution_count": 35,
   "metadata": {
    "id": "vzQgvrzzwbPg"
   },
   "outputs": [
    {
     "data": {
      "text/html": [
       "<div>\n",
       "<style scoped>\n",
       "    .dataframe tbody tr th:only-of-type {\n",
       "        vertical-align: middle;\n",
       "    }\n",
       "\n",
       "    .dataframe tbody tr th {\n",
       "        vertical-align: top;\n",
       "    }\n",
       "\n",
       "    .dataframe thead th {\n",
       "        text-align: right;\n",
       "    }\n",
       "</style>\n",
       "<table border=\"1\" class=\"dataframe\">\n",
       "  <thead>\n",
       "    <tr style=\"text-align: right;\">\n",
       "      <th></th>\n",
       "      <th>repay_rate_group</th>\n",
       "      <th>join_key</th>\n",
       "      <th>long</th>\n",
       "    </tr>\n",
       "  </thead>\n",
       "  <tbody>\n",
       "    <tr>\n",
       "      <th>0</th>\n",
       "      <td>0</td>\n",
       "      <td>12</td>\n",
       "      <td>0.500000</td>\n",
       "    </tr>\n",
       "    <tr>\n",
       "      <th>1</th>\n",
       "      <td>1</td>\n",
       "      <td>9</td>\n",
       "      <td>0.222222</td>\n",
       "    </tr>\n",
       "    <tr>\n",
       "      <th>2</th>\n",
       "      <td>2</td>\n",
       "      <td>473</td>\n",
       "      <td>0.040169</td>\n",
       "    </tr>\n",
       "  </tbody>\n",
       "</table>\n",
       "</div>"
      ],
      "text/plain": [
       "   repay_rate_group  join_key      long\n",
       "0                 0        12  0.500000\n",
       "1                 1         9  0.222222\n",
       "2                 2       473  0.040169"
      ]
     },
     "execution_count": 35,
     "metadata": {},
     "output_type": "execute_result"
    }
   ],
   "source": [
    "dat[group_var] = pd.cut(dat[var],bins=cutpoints,labels=False)\n",
    "dat.groupby([group_var],as_index=False).agg({'join_key':'count','long':'mean'})"
   ]
  },
  {
   "cell_type": "code",
   "execution_count": 36,
   "metadata": {
    "colab": {
     "base_uri": "https://localhost:8080/"
    },
    "executionInfo": {
     "elapsed": 2582,
     "status": "ok",
     "timestamp": 1607668602260,
     "user": {
      "displayName": "HyangGon JIn",
      "photoUrl": "https://lh3.googleusercontent.com/a-/AOh14GhGfu2HMaWl_Q0Nun8FZ890egbm7-AecA0x1okBizc=s64",
      "userId": "13336827823234602995"
     },
     "user_tz": -540
    },
    "id": "AYYv0pthcn2C",
    "outputId": "949c6602-a20a-41d2-e56c-3cba47ff2776"
   },
   "outputs": [
    {
     "data": {
      "text/plain": [
       "0"
      ]
     },
     "execution_count": 36,
     "metadata": {},
     "output_type": "execute_result"
    }
   ],
   "source": [
    "dat[group_var].isna().sum()"
   ]
  },
  {
   "cell_type": "code",
   "execution_count": 37,
   "metadata": {
    "id": "U3RmQc-4mzuD"
   },
   "outputs": [],
   "source": [
    "dat[group_var] = dat[group_var].astype('object')"
   ]
  },
  {
   "cell_type": "code",
   "execution_count": null,
   "metadata": {},
   "outputs": [],
   "source": []
  },
  {
   "cell_type": "markdown",
   "metadata": {},
   "source": [
    "* cnt_1st"
   ]
  },
  {
   "cell_type": "code",
   "execution_count": 38,
   "metadata": {
    "id": "yJh_f1lLxBb7"
   },
   "outputs": [],
   "source": [
    "var = 'cnt_1st'"
   ]
  },
  {
   "cell_type": "code",
   "execution_count": 39,
   "metadata": {
    "colab": {
     "base_uri": "https://localhost:8080/",
     "height": 35
    },
    "executionInfo": {
     "elapsed": 2605,
     "status": "ok",
     "timestamp": 1607668602258,
     "user": {
      "displayName": "HyangGon JIn",
      "photoUrl": "https://lh3.googleusercontent.com/a-/AOh14GhGfu2HMaWl_Q0Nun8FZ890egbm7-AecA0x1okBizc=s64",
      "userId": "13336827823234602995"
     },
     "user_tz": -540
    },
    "id": "Kj8T9Qw3xwzu",
    "outputId": "649530aa-8cb0-48f7-a4f6-b99383d7d115"
   },
   "outputs": [
    {
     "data": {
      "text/plain": [
       "'cnt_1st_group'"
      ]
     },
     "execution_count": 39,
     "metadata": {},
     "output_type": "execute_result"
    }
   ],
   "source": [
    "group_var = var+'_group'\n",
    "group_var"
   ]
  },
  {
   "cell_type": "code",
   "execution_count": 40,
   "metadata": {
    "id": "-RJs4d0MwbXH"
   },
   "outputs": [],
   "source": [
    "cutpoints = list(np.arange(0,dat[var].max(),step=1))\n",
    "cutpoints = [0,1,dat[var].max()]"
   ]
  },
  {
   "cell_type": "code",
   "execution_count": 41,
   "metadata": {},
   "outputs": [
    {
     "data": {
      "text/html": [
       "<div>\n",
       "<style scoped>\n",
       "    .dataframe tbody tr th:only-of-type {\n",
       "        vertical-align: middle;\n",
       "    }\n",
       "\n",
       "    .dataframe tbody tr th {\n",
       "        vertical-align: top;\n",
       "    }\n",
       "\n",
       "    .dataframe thead th {\n",
       "        text-align: right;\n",
       "    }\n",
       "</style>\n",
       "<table border=\"1\" class=\"dataframe\">\n",
       "  <thead>\n",
       "    <tr style=\"text-align: right;\">\n",
       "      <th></th>\n",
       "      <th>cnt_1st_group</th>\n",
       "      <th>join_key</th>\n",
       "      <th>long</th>\n",
       "    </tr>\n",
       "  </thead>\n",
       "  <tbody>\n",
       "    <tr>\n",
       "      <th>0</th>\n",
       "      <td>(0.0, 1.0]</td>\n",
       "      <td>323</td>\n",
       "      <td>0.043344</td>\n",
       "    </tr>\n",
       "    <tr>\n",
       "      <th>1</th>\n",
       "      <td>(1.0, 6.0]</td>\n",
       "      <td>171</td>\n",
       "      <td>0.076023</td>\n",
       "    </tr>\n",
       "  </tbody>\n",
       "</table>\n",
       "</div>"
      ],
      "text/plain": [
       "  cnt_1st_group  join_key      long\n",
       "0    (0.0, 1.0]       323  0.043344\n",
       "1    (1.0, 6.0]       171  0.076023"
      ]
     },
     "execution_count": 41,
     "metadata": {},
     "output_type": "execute_result"
    }
   ],
   "source": [
    "dat[group_var] = pd.cut(dat[var],bins=cutpoints)\n",
    "dat.groupby([group_var],as_index=False).agg({'join_key':'count','long':'mean'})"
   ]
  },
  {
   "cell_type": "code",
   "execution_count": 42,
   "metadata": {
    "id": "vzQgvrzzwbPg"
   },
   "outputs": [
    {
     "data": {
      "text/html": [
       "<div>\n",
       "<style scoped>\n",
       "    .dataframe tbody tr th:only-of-type {\n",
       "        vertical-align: middle;\n",
       "    }\n",
       "\n",
       "    .dataframe tbody tr th {\n",
       "        vertical-align: top;\n",
       "    }\n",
       "\n",
       "    .dataframe thead th {\n",
       "        text-align: right;\n",
       "    }\n",
       "</style>\n",
       "<table border=\"1\" class=\"dataframe\">\n",
       "  <thead>\n",
       "    <tr style=\"text-align: right;\">\n",
       "      <th></th>\n",
       "      <th>cnt_1st_group</th>\n",
       "      <th>join_key</th>\n",
       "      <th>long</th>\n",
       "    </tr>\n",
       "  </thead>\n",
       "  <tbody>\n",
       "    <tr>\n",
       "      <th>0</th>\n",
       "      <td>0</td>\n",
       "      <td>323</td>\n",
       "      <td>0.043344</td>\n",
       "    </tr>\n",
       "    <tr>\n",
       "      <th>1</th>\n",
       "      <td>1</td>\n",
       "      <td>171</td>\n",
       "      <td>0.076023</td>\n",
       "    </tr>\n",
       "  </tbody>\n",
       "</table>\n",
       "</div>"
      ],
      "text/plain": [
       "   cnt_1st_group  join_key      long\n",
       "0              0       323  0.043344\n",
       "1              1       171  0.076023"
      ]
     },
     "execution_count": 42,
     "metadata": {},
     "output_type": "execute_result"
    }
   ],
   "source": [
    "dat[group_var] = pd.cut(dat[var],bins=cutpoints,labels=False)\n",
    "dat.groupby([group_var],as_index=False).agg({'join_key':'count','long':'mean'})"
   ]
  },
  {
   "cell_type": "code",
   "execution_count": 43,
   "metadata": {
    "colab": {
     "base_uri": "https://localhost:8080/"
    },
    "executionInfo": {
     "elapsed": 2582,
     "status": "ok",
     "timestamp": 1607668602260,
     "user": {
      "displayName": "HyangGon JIn",
      "photoUrl": "https://lh3.googleusercontent.com/a-/AOh14GhGfu2HMaWl_Q0Nun8FZ890egbm7-AecA0x1okBizc=s64",
      "userId": "13336827823234602995"
     },
     "user_tz": -540
    },
    "id": "AYYv0pthcn2C",
    "outputId": "949c6602-a20a-41d2-e56c-3cba47ff2776"
   },
   "outputs": [
    {
     "data": {
      "text/plain": [
       "0"
      ]
     },
     "execution_count": 43,
     "metadata": {},
     "output_type": "execute_result"
    }
   ],
   "source": [
    "dat[group_var].isna().sum()"
   ]
  },
  {
   "cell_type": "code",
   "execution_count": 44,
   "metadata": {
    "id": "HKvlg9fnUg4_"
   },
   "outputs": [],
   "source": [
    "dat[group_var] = np.max(dat[group_var]) - dat[group_var].values"
   ]
  },
  {
   "cell_type": "code",
   "execution_count": 45,
   "metadata": {
    "id": "U3RmQc-4mzuD"
   },
   "outputs": [],
   "source": [
    "dat[group_var] = dat[group_var].astype('object')"
   ]
  },
  {
   "cell_type": "code",
   "execution_count": null,
   "metadata": {},
   "outputs": [],
   "source": []
  },
  {
   "cell_type": "markdown",
   "metadata": {},
   "source": [
    "* cnt_2nd"
   ]
  },
  {
   "cell_type": "code",
   "execution_count": 46,
   "metadata": {
    "id": "yJh_f1lLxBb7"
   },
   "outputs": [],
   "source": [
    "var = 'cnt_2nd'"
   ]
  },
  {
   "cell_type": "code",
   "execution_count": 47,
   "metadata": {
    "colab": {
     "base_uri": "https://localhost:8080/",
     "height": 35
    },
    "executionInfo": {
     "elapsed": 2605,
     "status": "ok",
     "timestamp": 1607668602258,
     "user": {
      "displayName": "HyangGon JIn",
      "photoUrl": "https://lh3.googleusercontent.com/a-/AOh14GhGfu2HMaWl_Q0Nun8FZ890egbm7-AecA0x1okBizc=s64",
      "userId": "13336827823234602995"
     },
     "user_tz": -540
    },
    "id": "Kj8T9Qw3xwzu",
    "outputId": "649530aa-8cb0-48f7-a4f6-b99383d7d115"
   },
   "outputs": [
    {
     "data": {
      "text/plain": [
       "'cnt_2nd_group'"
      ]
     },
     "execution_count": 47,
     "metadata": {},
     "output_type": "execute_result"
    }
   ],
   "source": [
    "group_var = var+'_group'\n",
    "group_var"
   ]
  },
  {
   "cell_type": "code",
   "execution_count": 48,
   "metadata": {
    "id": "-RJs4d0MwbXH"
   },
   "outputs": [],
   "source": [
    "# cutpoints = list(np.arange(-1,dat[var].max(),step=1))\n",
    "cutpoints = [-1,0,dat[var].max()]"
   ]
  },
  {
   "cell_type": "code",
   "execution_count": 49,
   "metadata": {},
   "outputs": [
    {
     "data": {
      "text/html": [
       "<div>\n",
       "<style scoped>\n",
       "    .dataframe tbody tr th:only-of-type {\n",
       "        vertical-align: middle;\n",
       "    }\n",
       "\n",
       "    .dataframe tbody tr th {\n",
       "        vertical-align: top;\n",
       "    }\n",
       "\n",
       "    .dataframe thead th {\n",
       "        text-align: right;\n",
       "    }\n",
       "</style>\n",
       "<table border=\"1\" class=\"dataframe\">\n",
       "  <thead>\n",
       "    <tr style=\"text-align: right;\">\n",
       "      <th></th>\n",
       "      <th>cnt_2nd_group</th>\n",
       "      <th>join_key</th>\n",
       "      <th>long</th>\n",
       "    </tr>\n",
       "  </thead>\n",
       "  <tbody>\n",
       "    <tr>\n",
       "      <th>0</th>\n",
       "      <td>(-1.0, 0.0]</td>\n",
       "      <td>428</td>\n",
       "      <td>0.042056</td>\n",
       "    </tr>\n",
       "    <tr>\n",
       "      <th>1</th>\n",
       "      <td>(0.0, 5.0]</td>\n",
       "      <td>66</td>\n",
       "      <td>0.136364</td>\n",
       "    </tr>\n",
       "  </tbody>\n",
       "</table>\n",
       "</div>"
      ],
      "text/plain": [
       "  cnt_2nd_group  join_key      long\n",
       "0   (-1.0, 0.0]       428  0.042056\n",
       "1    (0.0, 5.0]        66  0.136364"
      ]
     },
     "execution_count": 49,
     "metadata": {},
     "output_type": "execute_result"
    }
   ],
   "source": [
    "dat[group_var] = pd.cut(dat[var],bins=cutpoints)\n",
    "dat.groupby([group_var],as_index=False).agg({'join_key':'count','long':'mean'})"
   ]
  },
  {
   "cell_type": "code",
   "execution_count": 50,
   "metadata": {
    "id": "vzQgvrzzwbPg"
   },
   "outputs": [
    {
     "data": {
      "text/html": [
       "<div>\n",
       "<style scoped>\n",
       "    .dataframe tbody tr th:only-of-type {\n",
       "        vertical-align: middle;\n",
       "    }\n",
       "\n",
       "    .dataframe tbody tr th {\n",
       "        vertical-align: top;\n",
       "    }\n",
       "\n",
       "    .dataframe thead th {\n",
       "        text-align: right;\n",
       "    }\n",
       "</style>\n",
       "<table border=\"1\" class=\"dataframe\">\n",
       "  <thead>\n",
       "    <tr style=\"text-align: right;\">\n",
       "      <th></th>\n",
       "      <th>cnt_2nd_group</th>\n",
       "      <th>join_key</th>\n",
       "      <th>long</th>\n",
       "    </tr>\n",
       "  </thead>\n",
       "  <tbody>\n",
       "    <tr>\n",
       "      <th>0</th>\n",
       "      <td>0</td>\n",
       "      <td>428</td>\n",
       "      <td>0.042056</td>\n",
       "    </tr>\n",
       "    <tr>\n",
       "      <th>1</th>\n",
       "      <td>1</td>\n",
       "      <td>66</td>\n",
       "      <td>0.136364</td>\n",
       "    </tr>\n",
       "  </tbody>\n",
       "</table>\n",
       "</div>"
      ],
      "text/plain": [
       "   cnt_2nd_group  join_key      long\n",
       "0              0       428  0.042056\n",
       "1              1        66  0.136364"
      ]
     },
     "execution_count": 50,
     "metadata": {},
     "output_type": "execute_result"
    }
   ],
   "source": [
    "dat[group_var] = pd.cut(dat[var],bins=cutpoints,labels=False)\n",
    "dat.groupby([group_var],as_index=False).agg({'join_key':'count','long':'mean'})"
   ]
  },
  {
   "cell_type": "code",
   "execution_count": 51,
   "metadata": {
    "colab": {
     "base_uri": "https://localhost:8080/"
    },
    "executionInfo": {
     "elapsed": 2582,
     "status": "ok",
     "timestamp": 1607668602260,
     "user": {
      "displayName": "HyangGon JIn",
      "photoUrl": "https://lh3.googleusercontent.com/a-/AOh14GhGfu2HMaWl_Q0Nun8FZ890egbm7-AecA0x1okBizc=s64",
      "userId": "13336827823234602995"
     },
     "user_tz": -540
    },
    "id": "AYYv0pthcn2C",
    "outputId": "949c6602-a20a-41d2-e56c-3cba47ff2776"
   },
   "outputs": [
    {
     "data": {
      "text/plain": [
       "0"
      ]
     },
     "execution_count": 51,
     "metadata": {},
     "output_type": "execute_result"
    }
   ],
   "source": [
    "dat[group_var].isna().sum()"
   ]
  },
  {
   "cell_type": "code",
   "execution_count": 52,
   "metadata": {
    "id": "HKvlg9fnUg4_"
   },
   "outputs": [],
   "source": [
    "dat[group_var] = np.max(dat[group_var]) - dat[group_var].values"
   ]
  },
  {
   "cell_type": "code",
   "execution_count": 53,
   "metadata": {
    "id": "U3RmQc-4mzuD"
   },
   "outputs": [],
   "source": [
    "dat[group_var] = dat[group_var].astype('object')"
   ]
  },
  {
   "cell_type": "code",
   "execution_count": null,
   "metadata": {},
   "outputs": [],
   "source": []
  },
  {
   "cell_type": "markdown",
   "metadata": {},
   "source": [
    "* cnt_card"
   ]
  },
  {
   "cell_type": "code",
   "execution_count": 54,
   "metadata": {
    "id": "yJh_f1lLxBb7"
   },
   "outputs": [],
   "source": [
    "var = 'cnt_card'"
   ]
  },
  {
   "cell_type": "code",
   "execution_count": 55,
   "metadata": {
    "colab": {
     "base_uri": "https://localhost:8080/",
     "height": 35
    },
    "executionInfo": {
     "elapsed": 2605,
     "status": "ok",
     "timestamp": 1607668602258,
     "user": {
      "displayName": "HyangGon JIn",
      "photoUrl": "https://lh3.googleusercontent.com/a-/AOh14GhGfu2HMaWl_Q0Nun8FZ890egbm7-AecA0x1okBizc=s64",
      "userId": "13336827823234602995"
     },
     "user_tz": -540
    },
    "id": "Kj8T9Qw3xwzu",
    "outputId": "649530aa-8cb0-48f7-a4f6-b99383d7d115"
   },
   "outputs": [
    {
     "data": {
      "text/plain": [
       "'cnt_card_group'"
      ]
     },
     "execution_count": 55,
     "metadata": {},
     "output_type": "execute_result"
    }
   ],
   "source": [
    "group_var = var+'_group'\n",
    "group_var"
   ]
  },
  {
   "cell_type": "code",
   "execution_count": 56,
   "metadata": {
    "id": "-RJs4d0MwbXH"
   },
   "outputs": [],
   "source": [
    "# cutpoints = list(np.arange(-1,dat[var].max(),step=1))\n",
    "cutpoints = [-1,0,dat[var].max()]"
   ]
  },
  {
   "cell_type": "code",
   "execution_count": 57,
   "metadata": {},
   "outputs": [
    {
     "data": {
      "text/html": [
       "<div>\n",
       "<style scoped>\n",
       "    .dataframe tbody tr th:only-of-type {\n",
       "        vertical-align: middle;\n",
       "    }\n",
       "\n",
       "    .dataframe tbody tr th {\n",
       "        vertical-align: top;\n",
       "    }\n",
       "\n",
       "    .dataframe thead th {\n",
       "        text-align: right;\n",
       "    }\n",
       "</style>\n",
       "<table border=\"1\" class=\"dataframe\">\n",
       "  <thead>\n",
       "    <tr style=\"text-align: right;\">\n",
       "      <th></th>\n",
       "      <th>cnt_card_group</th>\n",
       "      <th>join_key</th>\n",
       "      <th>long</th>\n",
       "    </tr>\n",
       "  </thead>\n",
       "  <tbody>\n",
       "    <tr>\n",
       "      <th>0</th>\n",
       "      <td>(-1.0, 0.0]</td>\n",
       "      <td>386</td>\n",
       "      <td>0.033679</td>\n",
       "    </tr>\n",
       "    <tr>\n",
       "      <th>1</th>\n",
       "      <td>(0.0, 6.0]</td>\n",
       "      <td>108</td>\n",
       "      <td>0.129630</td>\n",
       "    </tr>\n",
       "  </tbody>\n",
       "</table>\n",
       "</div>"
      ],
      "text/plain": [
       "  cnt_card_group  join_key      long\n",
       "0    (-1.0, 0.0]       386  0.033679\n",
       "1     (0.0, 6.0]       108  0.129630"
      ]
     },
     "execution_count": 57,
     "metadata": {},
     "output_type": "execute_result"
    }
   ],
   "source": [
    "dat[group_var] = pd.cut(dat[var],bins=cutpoints)\n",
    "dat.groupby([group_var],as_index=False).agg({'join_key':'count','long':'mean'})"
   ]
  },
  {
   "cell_type": "code",
   "execution_count": 58,
   "metadata": {
    "id": "vzQgvrzzwbPg"
   },
   "outputs": [
    {
     "data": {
      "text/html": [
       "<div>\n",
       "<style scoped>\n",
       "    .dataframe tbody tr th:only-of-type {\n",
       "        vertical-align: middle;\n",
       "    }\n",
       "\n",
       "    .dataframe tbody tr th {\n",
       "        vertical-align: top;\n",
       "    }\n",
       "\n",
       "    .dataframe thead th {\n",
       "        text-align: right;\n",
       "    }\n",
       "</style>\n",
       "<table border=\"1\" class=\"dataframe\">\n",
       "  <thead>\n",
       "    <tr style=\"text-align: right;\">\n",
       "      <th></th>\n",
       "      <th>cnt_card_group</th>\n",
       "      <th>join_key</th>\n",
       "      <th>long</th>\n",
       "    </tr>\n",
       "  </thead>\n",
       "  <tbody>\n",
       "    <tr>\n",
       "      <th>0</th>\n",
       "      <td>0</td>\n",
       "      <td>386</td>\n",
       "      <td>0.033679</td>\n",
       "    </tr>\n",
       "    <tr>\n",
       "      <th>1</th>\n",
       "      <td>1</td>\n",
       "      <td>108</td>\n",
       "      <td>0.129630</td>\n",
       "    </tr>\n",
       "  </tbody>\n",
       "</table>\n",
       "</div>"
      ],
      "text/plain": [
       "   cnt_card_group  join_key      long\n",
       "0               0       386  0.033679\n",
       "1               1       108  0.129630"
      ]
     },
     "execution_count": 58,
     "metadata": {},
     "output_type": "execute_result"
    }
   ],
   "source": [
    "dat[group_var] = pd.cut(dat[var],bins=cutpoints,labels=False)\n",
    "dat.groupby([group_var],as_index=False).agg({'join_key':'count','long':'mean'})"
   ]
  },
  {
   "cell_type": "code",
   "execution_count": 59,
   "metadata": {
    "colab": {
     "base_uri": "https://localhost:8080/"
    },
    "executionInfo": {
     "elapsed": 2582,
     "status": "ok",
     "timestamp": 1607668602260,
     "user": {
      "displayName": "HyangGon JIn",
      "photoUrl": "https://lh3.googleusercontent.com/a-/AOh14GhGfu2HMaWl_Q0Nun8FZ890egbm7-AecA0x1okBizc=s64",
      "userId": "13336827823234602995"
     },
     "user_tz": -540
    },
    "id": "AYYv0pthcn2C",
    "outputId": "949c6602-a20a-41d2-e56c-3cba47ff2776"
   },
   "outputs": [
    {
     "data": {
      "text/plain": [
       "0"
      ]
     },
     "execution_count": 59,
     "metadata": {},
     "output_type": "execute_result"
    }
   ],
   "source": [
    "dat[group_var].isna().sum()"
   ]
  },
  {
   "cell_type": "code",
   "execution_count": 60,
   "metadata": {
    "id": "HKvlg9fnUg4_"
   },
   "outputs": [],
   "source": [
    "dat[group_var] = np.max(dat[group_var]) - dat[group_var].values"
   ]
  },
  {
   "cell_type": "code",
   "execution_count": 61,
   "metadata": {
    "id": "U3RmQc-4mzuD"
   },
   "outputs": [],
   "source": [
    "dat[group_var] = dat[group_var].astype('object')"
   ]
  },
  {
   "cell_type": "code",
   "execution_count": null,
   "metadata": {},
   "outputs": [],
   "source": []
  },
  {
   "cell_type": "markdown",
   "metadata": {},
   "source": [
    "* cnt_insurance"
   ]
  },
  {
   "cell_type": "code",
   "execution_count": 62,
   "metadata": {
    "id": "yJh_f1lLxBb7"
   },
   "outputs": [],
   "source": [
    "var = 'cnt_insurance'"
   ]
  },
  {
   "cell_type": "code",
   "execution_count": 63,
   "metadata": {
    "colab": {
     "base_uri": "https://localhost:8080/",
     "height": 35
    },
    "executionInfo": {
     "elapsed": 2605,
     "status": "ok",
     "timestamp": 1607668602258,
     "user": {
      "displayName": "HyangGon JIn",
      "photoUrl": "https://lh3.googleusercontent.com/a-/AOh14GhGfu2HMaWl_Q0Nun8FZ890egbm7-AecA0x1okBizc=s64",
      "userId": "13336827823234602995"
     },
     "user_tz": -540
    },
    "id": "Kj8T9Qw3xwzu",
    "outputId": "649530aa-8cb0-48f7-a4f6-b99383d7d115"
   },
   "outputs": [
    {
     "data": {
      "text/plain": [
       "'cnt_insurance_group'"
      ]
     },
     "execution_count": 63,
     "metadata": {},
     "output_type": "execute_result"
    }
   ],
   "source": [
    "group_var = var+'_group'\n",
    "group_var"
   ]
  },
  {
   "cell_type": "code",
   "execution_count": 64,
   "metadata": {
    "id": "-RJs4d0MwbXH"
   },
   "outputs": [],
   "source": [
    "# cutpoints = list(np.arange(-1,dat[var].max(),step=1))\n",
    "cutpoints = [-1,0,dat[var].max()]"
   ]
  },
  {
   "cell_type": "code",
   "execution_count": 65,
   "metadata": {},
   "outputs": [
    {
     "data": {
      "text/html": [
       "<div>\n",
       "<style scoped>\n",
       "    .dataframe tbody tr th:only-of-type {\n",
       "        vertical-align: middle;\n",
       "    }\n",
       "\n",
       "    .dataframe tbody tr th {\n",
       "        vertical-align: top;\n",
       "    }\n",
       "\n",
       "    .dataframe thead th {\n",
       "        text-align: right;\n",
       "    }\n",
       "</style>\n",
       "<table border=\"1\" class=\"dataframe\">\n",
       "  <thead>\n",
       "    <tr style=\"text-align: right;\">\n",
       "      <th></th>\n",
       "      <th>cnt_insurance_group</th>\n",
       "      <th>join_key</th>\n",
       "      <th>long</th>\n",
       "    </tr>\n",
       "  </thead>\n",
       "  <tbody>\n",
       "    <tr>\n",
       "      <th>0</th>\n",
       "      <td>(-1.0, 0.0]</td>\n",
       "      <td>472</td>\n",
       "      <td>0.052966</td>\n",
       "    </tr>\n",
       "    <tr>\n",
       "      <th>1</th>\n",
       "      <td>(0.0, 2.0]</td>\n",
       "      <td>22</td>\n",
       "      <td>0.090909</td>\n",
       "    </tr>\n",
       "  </tbody>\n",
       "</table>\n",
       "</div>"
      ],
      "text/plain": [
       "  cnt_insurance_group  join_key      long\n",
       "0         (-1.0, 0.0]       472  0.052966\n",
       "1          (0.0, 2.0]        22  0.090909"
      ]
     },
     "execution_count": 65,
     "metadata": {},
     "output_type": "execute_result"
    }
   ],
   "source": [
    "dat[group_var] = pd.cut(dat[var],bins=cutpoints)\n",
    "dat.groupby([group_var],as_index=False).agg({'join_key':'count','long':'mean'})"
   ]
  },
  {
   "cell_type": "code",
   "execution_count": 66,
   "metadata": {
    "id": "vzQgvrzzwbPg"
   },
   "outputs": [
    {
     "data": {
      "text/html": [
       "<div>\n",
       "<style scoped>\n",
       "    .dataframe tbody tr th:only-of-type {\n",
       "        vertical-align: middle;\n",
       "    }\n",
       "\n",
       "    .dataframe tbody tr th {\n",
       "        vertical-align: top;\n",
       "    }\n",
       "\n",
       "    .dataframe thead th {\n",
       "        text-align: right;\n",
       "    }\n",
       "</style>\n",
       "<table border=\"1\" class=\"dataframe\">\n",
       "  <thead>\n",
       "    <tr style=\"text-align: right;\">\n",
       "      <th></th>\n",
       "      <th>cnt_insurance_group</th>\n",
       "      <th>join_key</th>\n",
       "      <th>long</th>\n",
       "    </tr>\n",
       "  </thead>\n",
       "  <tbody>\n",
       "    <tr>\n",
       "      <th>0</th>\n",
       "      <td>0</td>\n",
       "      <td>472</td>\n",
       "      <td>0.052966</td>\n",
       "    </tr>\n",
       "    <tr>\n",
       "      <th>1</th>\n",
       "      <td>1</td>\n",
       "      <td>22</td>\n",
       "      <td>0.090909</td>\n",
       "    </tr>\n",
       "  </tbody>\n",
       "</table>\n",
       "</div>"
      ],
      "text/plain": [
       "   cnt_insurance_group  join_key      long\n",
       "0                    0       472  0.052966\n",
       "1                    1        22  0.090909"
      ]
     },
     "execution_count": 66,
     "metadata": {},
     "output_type": "execute_result"
    }
   ],
   "source": [
    "dat[group_var] = pd.cut(dat[var],bins=cutpoints,labels=False)\n",
    "dat.groupby([group_var],as_index=False).agg({'join_key':'count','long':'mean'})"
   ]
  },
  {
   "cell_type": "code",
   "execution_count": 67,
   "metadata": {
    "colab": {
     "base_uri": "https://localhost:8080/"
    },
    "executionInfo": {
     "elapsed": 2582,
     "status": "ok",
     "timestamp": 1607668602260,
     "user": {
      "displayName": "HyangGon JIn",
      "photoUrl": "https://lh3.googleusercontent.com/a-/AOh14GhGfu2HMaWl_Q0Nun8FZ890egbm7-AecA0x1okBizc=s64",
      "userId": "13336827823234602995"
     },
     "user_tz": -540
    },
    "id": "AYYv0pthcn2C",
    "outputId": "949c6602-a20a-41d2-e56c-3cba47ff2776"
   },
   "outputs": [
    {
     "data": {
      "text/plain": [
       "0"
      ]
     },
     "execution_count": 67,
     "metadata": {},
     "output_type": "execute_result"
    }
   ],
   "source": [
    "dat[group_var].isna().sum()"
   ]
  },
  {
   "cell_type": "code",
   "execution_count": 68,
   "metadata": {
    "id": "HKvlg9fnUg4_"
   },
   "outputs": [],
   "source": [
    "dat[group_var] = np.max(dat[group_var]) - dat[group_var].values"
   ]
  },
  {
   "cell_type": "code",
   "execution_count": 69,
   "metadata": {
    "id": "U3RmQc-4mzuD"
   },
   "outputs": [],
   "source": [
    "dat[group_var] = dat[group_var].astype('object')"
   ]
  },
  {
   "cell_type": "code",
   "execution_count": null,
   "metadata": {},
   "outputs": [],
   "source": []
  },
  {
   "cell_type": "code",
   "execution_count": 70,
   "metadata": {},
   "outputs": [],
   "source": [
    "data = dat.drop(['ln_amt','dlq_amt','num_loan','num_overdue','repay_rate','age','ex_long',\n",
    "                 'num_overdue_group','age_group',\n",
    "                'cnt_1st','cnt_2nd','cnt_card','cnt_insurance'],axis=1)"
   ]
  },
  {
   "cell_type": "code",
   "execution_count": 71,
   "metadata": {
    "id": "Q7_UXBZYAn_G"
   },
   "outputs": [],
   "source": [
    "data = pd.concat([data[data.columns.difference(['long'])].astype('object'),dat['long']],axis=1).set_index('join_key')"
   ]
  },
  {
   "cell_type": "markdown",
   "metadata": {
    "id": "Bwfjay_3rCFW"
   },
   "source": [
    "## Model fitting"
   ]
  },
  {
   "cell_type": "markdown",
   "metadata": {
    "id": "CZK_CJSz2J_z"
   },
   "source": [
    "### Train/Test split"
   ]
  },
  {
   "cell_type": "code",
   "execution_count": 72,
   "metadata": {
    "id": "0qTfRb3W2QRp"
   },
   "outputs": [],
   "source": [
    "features = data.columns.difference(['long'])\n",
    "target = ['long']"
   ]
  },
  {
   "cell_type": "code",
   "execution_count": 73,
   "metadata": {
    "colab": {
     "base_uri": "https://localhost:8080/"
    },
    "executionInfo": {
     "elapsed": 2519,
     "status": "ok",
     "timestamp": 1607668602642,
     "user": {
      "displayName": "HyangGon JIn",
      "photoUrl": "https://lh3.googleusercontent.com/a-/AOh14GhGfu2HMaWl_Q0Nun8FZ890egbm7-AecA0x1okBizc=s64",
      "userId": "13336827823234602995"
     },
     "user_tz": -540
    },
    "id": "AjiA6xLeUHFT",
    "outputId": "550a0795-609b-4ff2-a3a5-91e430319514"
   },
   "outputs": [
    {
     "data": {
      "text/plain": [
       "Index(['cnt_1st_group', 'cnt_2nd_group', 'cnt_card_group',\n",
       "       'cnt_insurance_group', 'gender', 'num_loan_group', 'over_3y',\n",
       "       'repay_rate_group'],\n",
       "      dtype='object')"
      ]
     },
     "execution_count": 73,
     "metadata": {},
     "output_type": "execute_result"
    }
   ],
   "source": [
    "features"
   ]
  },
  {
   "cell_type": "code",
   "execution_count": 74,
   "metadata": {
    "id": "K6riLvPwAoFU"
   },
   "outputs": [],
   "source": [
    "from sklearn.linear_model import LogisticRegression\n",
    "from sklearn.ensemble import RandomForestClassifier\n",
    "from sklearn.model_selection import train_test_split,GridSearchCV"
   ]
  },
  {
   "cell_type": "code",
   "execution_count": 75,
   "metadata": {
    "id": "p_UiLXAXCGBS"
   },
   "outputs": [],
   "source": [
    "data = pd.get_dummies(data[list(features) + list(target)],drop_first=True)"
   ]
  },
  {
   "cell_type": "code",
   "execution_count": 76,
   "metadata": {
    "id": "4WeMnr6kM9i2"
   },
   "outputs": [],
   "source": [
    "dat1 = data[data['long']==1]\n",
    "dat2 = data[data['long']==0]"
   ]
  },
  {
   "cell_type": "code",
   "execution_count": 77,
   "metadata": {
    "id": "RjxRTHR5NGmb"
   },
   "outputs": [],
   "source": [
    "train1, test1 = train_test_split(dat1,train_size=0.6,random_state=1)\n",
    "train2, test2 = train_test_split(dat2,train_size=0.6,random_state=1)"
   ]
  },
  {
   "cell_type": "code",
   "execution_count": 78,
   "metadata": {
    "id": "kHhej8asN21Q"
   },
   "outputs": [],
   "source": [
    "train = pd.concat([train1,train2],axis=0)\n",
    "test = pd.concat([test1,test2],axis=0)"
   ]
  },
  {
   "cell_type": "markdown",
   "metadata": {},
   "source": [
    ": target이 class imbalance하므로, 각 그룹에 대하여 동일한 비율로 훈련데이터와 검증데이터를 구성하였다 "
   ]
  },
  {
   "cell_type": "code",
   "execution_count": 79,
   "metadata": {},
   "outputs": [
    {
     "name": "stdout",
     "output_type": "stream",
     "text": [
      "(296, 11) (198, 11)\n"
     ]
    }
   ],
   "source": [
    "print(train.shape,test.shape)"
   ]
  },
  {
   "cell_type": "code",
   "execution_count": 80,
   "metadata": {
    "id": "wCv_J94jAoIk"
   },
   "outputs": [],
   "source": [
    "X_train = train[train.columns.difference(target)]\n",
    "y_train = train[target]\n",
    "\n",
    "X_test = test[test.columns.difference(target)]\n",
    "y_test = test[target]"
   ]
  },
  {
   "cell_type": "code",
   "execution_count": null,
   "metadata": {
    "id": "3gcTLW01Fgtd"
   },
   "outputs": [],
   "source": []
  },
  {
   "cell_type": "markdown",
   "metadata": {
    "id": "thxt5BXxrhDV"
   },
   "source": [
    "### Logistic Regression"
   ]
  },
  {
   "cell_type": "code",
   "execution_count": 81,
   "metadata": {
    "id": "XVDu5MJxtFLH"
   },
   "outputs": [],
   "source": [
    "import statsmodels.api as sm"
   ]
  },
  {
   "cell_type": "code",
   "execution_count": 82,
   "metadata": {
    "colab": {
     "base_uri": "https://localhost:8080/"
    },
    "executionInfo": {
     "elapsed": 791,
     "status": "ok",
     "timestamp": 1607668721259,
     "user": {
      "displayName": "HyangGon JIn",
      "photoUrl": "https://lh3.googleusercontent.com/a-/AOh14GhGfu2HMaWl_Q0Nun8FZ890egbm7-AecA0x1okBizc=s64",
      "userId": "13336827823234602995"
     },
     "user_tz": -540
    },
    "id": "Eb0QI5L9s-9t",
    "outputId": "4fda15e3-159e-4ff7-850d-9d443c376b46"
   },
   "outputs": [
    {
     "name": "stdout",
     "output_type": "stream",
     "text": [
      "Optimization terminated successfully.\n",
      "         Current function value: 0.120575\n",
      "         Iterations 9\n"
     ]
    }
   ],
   "source": [
    "logit_model = sm.Logit(y_train,sm.add_constant(X_train)).fit()"
   ]
  },
  {
   "cell_type": "code",
   "execution_count": 83,
   "metadata": {
    "colab": {
     "base_uri": "https://localhost:8080/",
     "height": 394
    },
    "executionInfo": {
     "elapsed": 848,
     "status": "ok",
     "timestamp": 1607668724526,
     "user": {
      "displayName": "HyangGon JIn",
      "photoUrl": "https://lh3.googleusercontent.com/a-/AOh14GhGfu2HMaWl_Q0Nun8FZ890egbm7-AecA0x1okBizc=s64",
      "userId": "13336827823234602995"
     },
     "user_tz": -540
    },
    "id": "rZxepzDQw20o",
    "outputId": "f33d4785-8b9c-4e46-f770-7c42915f5984"
   },
   "outputs": [
    {
     "data": {
      "text/html": [
       "<table class=\"simpletable\">\n",
       "<caption>Logit Regression Results</caption>\n",
       "<tr>\n",
       "  <th>Dep. Variable:</th>         <td>long</td>       <th>  No. Observations:  </th>  <td>   296</td>  \n",
       "</tr>\n",
       "<tr>\n",
       "  <th>Model:</th>                 <td>Logit</td>      <th>  Df Residuals:      </th>  <td>   285</td>  \n",
       "</tr>\n",
       "<tr>\n",
       "  <th>Method:</th>                 <td>MLE</td>       <th>  Df Model:          </th>  <td>    10</td>  \n",
       "</tr>\n",
       "<tr>\n",
       "  <th>Date:</th>            <td>Thu, 17 Dec 2020</td> <th>  Pseudo R-squ.:     </th>  <td>0.4266</td>  \n",
       "</tr>\n",
       "<tr>\n",
       "  <th>Time:</th>                <td>17:27:01</td>     <th>  Log-Likelihood:    </th> <td> -35.690</td> \n",
       "</tr>\n",
       "<tr>\n",
       "  <th>converged:</th>             <td>True</td>       <th>  LL-Null:           </th> <td> -62.244</td> \n",
       "</tr>\n",
       "<tr>\n",
       "  <th>Covariance Type:</th>     <td>nonrobust</td>    <th>  LLR p-value:       </th> <td>7.113e-08</td>\n",
       "</tr>\n",
       "</table>\n",
       "<table class=\"simpletable\">\n",
       "<tr>\n",
       "            <td></td>               <th>coef</th>     <th>std err</th>      <th>z</th>      <th>P>|z|</th>  <th>[0.025</th>    <th>0.975]</th>  \n",
       "</tr>\n",
       "<tr>\n",
       "  <th>const</th>                 <td>    1.9115</td> <td>    1.809</td> <td>    1.057</td> <td> 0.291</td> <td>   -1.634</td> <td>    5.457</td>\n",
       "</tr>\n",
       "<tr>\n",
       "  <th>cnt_1st_group_1</th>       <td>   -0.1950</td> <td>    0.676</td> <td>   -0.288</td> <td> 0.773</td> <td>   -1.520</td> <td>    1.130</td>\n",
       "</tr>\n",
       "<tr>\n",
       "  <th>cnt_2nd_group_1</th>       <td>    1.2473</td> <td>    0.836</td> <td>    1.493</td> <td> 0.136</td> <td>   -0.391</td> <td>    2.885</td>\n",
       "</tr>\n",
       "<tr>\n",
       "  <th>cnt_card_group_1</th>      <td>   -2.4304</td> <td>    0.793</td> <td>   -3.066</td> <td> 0.002</td> <td>   -3.984</td> <td>   -0.877</td>\n",
       "</tr>\n",
       "<tr>\n",
       "  <th>cnt_insurance_group_1</th> <td>   -2.0238</td> <td>    1.305</td> <td>   -1.551</td> <td> 0.121</td> <td>   -4.582</td> <td>    0.534</td>\n",
       "</tr>\n",
       "<tr>\n",
       "  <th>gender_2</th>              <td>   -0.9414</td> <td>    0.810</td> <td>   -1.163</td> <td> 0.245</td> <td>   -2.528</td> <td>    0.646</td>\n",
       "</tr>\n",
       "<tr>\n",
       "  <th>num_loan_group_1</th>      <td>    0.0991</td> <td>    1.038</td> <td>    0.095</td> <td> 0.924</td> <td>   -1.936</td> <td>    2.134</td>\n",
       "</tr>\n",
       "<tr>\n",
       "  <th>num_loan_group_2</th>      <td>   -4.5703</td> <td>    1.087</td> <td>   -4.203</td> <td> 0.000</td> <td>   -6.702</td> <td>   -2.439</td>\n",
       "</tr>\n",
       "<tr>\n",
       "  <th>over_3y_1.0</th>           <td>    0.2241</td> <td>    0.699</td> <td>    0.321</td> <td> 0.749</td> <td>   -1.146</td> <td>    1.594</td>\n",
       "</tr>\n",
       "<tr>\n",
       "  <th>repay_rate_group_1</th>    <td>    0.1300</td> <td>    1.543</td> <td>    0.084</td> <td> 0.933</td> <td>   -2.895</td> <td>    3.155</td>\n",
       "</tr>\n",
       "<tr>\n",
       "  <th>repay_rate_group_2</th>    <td>    1.1089</td> <td>    1.337</td> <td>    0.830</td> <td> 0.407</td> <td>   -1.511</td> <td>    3.729</td>\n",
       "</tr>\n",
       "</table>"
      ],
      "text/plain": [
       "<class 'statsmodels.iolib.summary.Summary'>\n",
       "\"\"\"\n",
       "                           Logit Regression Results                           \n",
       "==============================================================================\n",
       "Dep. Variable:                   long   No. Observations:                  296\n",
       "Model:                          Logit   Df Residuals:                      285\n",
       "Method:                           MLE   Df Model:                           10\n",
       "Date:                Thu, 17 Dec 2020   Pseudo R-squ.:                  0.4266\n",
       "Time:                        17:27:01   Log-Likelihood:                -35.690\n",
       "converged:                       True   LL-Null:                       -62.244\n",
       "Covariance Type:            nonrobust   LLR p-value:                 7.113e-08\n",
       "=========================================================================================\n",
       "                            coef    std err          z      P>|z|      [0.025      0.975]\n",
       "-----------------------------------------------------------------------------------------\n",
       "const                     1.9115      1.809      1.057      0.291      -1.634       5.457\n",
       "cnt_1st_group_1          -0.1950      0.676     -0.288      0.773      -1.520       1.130\n",
       "cnt_2nd_group_1           1.2473      0.836      1.493      0.136      -0.391       2.885\n",
       "cnt_card_group_1         -2.4304      0.793     -3.066      0.002      -3.984      -0.877\n",
       "cnt_insurance_group_1    -2.0238      1.305     -1.551      0.121      -4.582       0.534\n",
       "gender_2                 -0.9414      0.810     -1.163      0.245      -2.528       0.646\n",
       "num_loan_group_1          0.0991      1.038      0.095      0.924      -1.936       2.134\n",
       "num_loan_group_2         -4.5703      1.087     -4.203      0.000      -6.702      -2.439\n",
       "over_3y_1.0               0.2241      0.699      0.321      0.749      -1.146       1.594\n",
       "repay_rate_group_1        0.1300      1.543      0.084      0.933      -2.895       3.155\n",
       "repay_rate_group_2        1.1089      1.337      0.830      0.407      -1.511       3.729\n",
       "=========================================================================================\n",
       "\"\"\""
      ]
     },
     "execution_count": 83,
     "metadata": {},
     "output_type": "execute_result"
    }
   ],
   "source": [
    "logit_model.summary()"
   ]
  },
  {
   "cell_type": "markdown",
   "metadata": {
    "id": "skJHuffSgcn3"
   },
   "source": [
    "#### prediction"
   ]
  },
  {
   "cell_type": "code",
   "execution_count": 84,
   "metadata": {
    "id": "sMrRvxlpIZ49"
   },
   "outputs": [],
   "source": [
    "from sklearn.metrics import accuracy_score,recall_score, precision_score, confusion_matrix, classification_report"
   ]
  },
  {
   "cell_type": "code",
   "execution_count": 85,
   "metadata": {
    "id": "BqBX_ZS6mr0N"
   },
   "outputs": [],
   "source": [
    "from sklearn.metrics import roc_curve, auc"
   ]
  },
  {
   "cell_type": "code",
   "execution_count": 86,
   "metadata": {
    "colab": {
     "base_uri": "https://localhost:8080/",
     "height": 339
    },
    "executionInfo": {
     "elapsed": 937,
     "status": "ok",
     "timestamp": 1607670194141,
     "user": {
      "displayName": "HyangGon JIn",
      "photoUrl": "https://lh3.googleusercontent.com/a-/AOh14GhGfu2HMaWl_Q0Nun8FZ890egbm7-AecA0x1okBizc=s64",
      "userId": "13336827823234602995"
     },
     "user_tz": -540
    },
    "id": "A_obDTcinFE9",
    "outputId": "4da60e1a-36f9-4e76-aeab-c0b189d37fa1"
   },
   "outputs": [
    {
     "name": "stdout",
     "output_type": "stream",
     "text": [
      "Area under the ROC curve : 0.931027\n",
      "0.0743728927846421\n"
     ]
    },
    {
     "data": {
      "image/png": "[encoded data removed]",
      "text/plain": [
       "<Figure size 432x288 with 1 Axes>"
      ]
     },
     "metadata": {
      "needs_background": "light"
     },
     "output_type": "display_data"
    }
   ],
   "source": [
    "# 출처 : https://stackoverflow.com/questions/28719067/roc-curve-and-cut-off-point-python\n",
    "\n",
    "fpr, tpr, thresholds =roc_curve(y_train, logit_model.predict(sm.add_constant(X_train)))\n",
    "\n",
    "roc_auc = auc(fpr, tpr)\n",
    "print(\"Area under the ROC curve : %f\" % roc_auc)\n",
    "\n",
    "####################################\n",
    "# The optimal cut off would be where tpr is high and fpr is low\n",
    "# tpr - (1-fpr) is zero or near to zero is the optimal cut off point\n",
    "####################################\n",
    "\n",
    "i = np.arange(len(tpr)) \n",
    "roc = pd.DataFrame({'fpr' : pd.Series(fpr, index=i),'tpr' : pd.Series(tpr, index = i), '1-fpr' : pd.Series(1-fpr, index = i), 'tf' : pd.Series(tpr - (1-fpr), index = i), 'thresholds' : pd.Series(thresholds, index = i)})\n",
    "roc.iloc[(roc.tf-0).abs().argsort()[:1]]\n",
    "\n",
    "optimal_idx = np.argmax(tpr - fpr)\n",
    "optimal_threshold_logit = thresholds[optimal_idx]\n",
    "print(optimal_threshold_logit)\n",
    "\n",
    "# Plot tpr vs 1-fpr\n",
    "fig, ax = plt.subplots()\n",
    "plt.plot(roc['tpr'])\n",
    "plt.plot(roc['1-fpr'], color = 'red')\n",
    "plt.xlabel('1-False Positive Rate')\n",
    "plt.ylabel('True Positive Rate')\n",
    "plt.title('Receiver operating characteristic')\n",
    "ax.set_xticklabels([])\n",
    "plt.show()"
   ]
  },
  {
   "cell_type": "code",
   "execution_count": 87,
   "metadata": {
    "id": "7XKI8s_CBUK-"
   },
   "outputs": [],
   "source": [
    "y_pred1 = np.where(logit_model.predict(sm.add_constant(X_test))>optimal_threshold_logit,1,0)"
   ]
  },
  {
   "cell_type": "code",
   "execution_count": 88,
   "metadata": {
    "colab": {
     "base_uri": "https://localhost:8080/"
    },
    "executionInfo": {
     "elapsed": 789,
     "status": "ok",
     "timestamp": 1607670642341,
     "user": {
      "displayName": "HyangGon JIn",
      "photoUrl": "https://lh3.googleusercontent.com/a-/AOh14GhGfu2HMaWl_Q0Nun8FZ890egbm7-AecA0x1okBizc=s64",
      "userId": "13336827823234602995"
     },
     "user_tz": -540
    },
    "id": "QmHRPIGBoSRy",
    "outputId": "3e8571b2-9ffb-4ef5-efe1-d733e3d13721"
   },
   "outputs": [
    {
     "data": {
      "text/plain": [
       "0.22580645161290322"
      ]
     },
     "execution_count": 88,
     "metadata": {},
     "output_type": "execute_result"
    }
   ],
   "source": [
    "precision_score(y_test,y_pred1)"
   ]
  },
  {
   "cell_type": "code",
   "execution_count": 89,
   "metadata": {
    "colab": {
     "base_uri": "https://localhost:8080/"
    },
    "executionInfo": {
     "elapsed": 968,
     "status": "ok",
     "timestamp": 1607670898236,
     "user": {
      "displayName": "HyangGon JIn",
      "photoUrl": "https://lh3.googleusercontent.com/a-/AOh14GhGfu2HMaWl_Q0Nun8FZ890egbm7-AecA0x1okBizc=s64",
      "userId": "13336827823234602995"
     },
     "user_tz": -540
    },
    "id": "CiHKOJ8Pplbg",
    "outputId": "2ef24d4f-0e9f-433e-d7aa-6662694a39a2"
   },
   "outputs": [
    {
     "name": "stdout",
     "output_type": "stream",
     "text": [
      "163 24 4 7\n"
     ]
    }
   ],
   "source": [
    "tn, fp, fn, tp = confusion_matrix(y_test, y_pred1).ravel()\n",
    "tp/(tp+fp)\n",
    "print(tn, fp, fn, tp)"
   ]
  },
  {
   "cell_type": "code",
   "execution_count": 90,
   "metadata": {
    "colab": {
     "base_uri": "https://localhost:8080/"
    },
    "executionInfo": {
     "elapsed": 757,
     "status": "ok",
     "timestamp": 1607670217252,
     "user": {
      "displayName": "HyangGon JIn",
      "photoUrl": "https://lh3.googleusercontent.com/a-/AOh14GhGfu2HMaWl_Q0Nun8FZ890egbm7-AecA0x1okBizc=s64",
      "userId": "13336827823234602995"
     },
     "user_tz": -540
    },
    "id": "zs0KvlY7yhCV",
    "outputId": "a8dad47f-cfb7-4487-9f63-a39c58cd14f9"
   },
   "outputs": [
    {
     "name": "stdout",
     "output_type": "stream",
     "text": [
      "[[163  24]\n",
      " [  4   7]]\n"
     ]
    }
   ],
   "source": [
    "print(confusion_matrix(y_test,y_pred1))"
   ]
  },
  {
   "cell_type": "code",
   "execution_count": 91,
   "metadata": {
    "colab": {
     "base_uri": "https://localhost:8080/"
    },
    "executionInfo": {
     "elapsed": 712,
     "status": "ok",
     "timestamp": 1607670218931,
     "user": {
      "displayName": "HyangGon JIn",
      "photoUrl": "https://lh3.googleusercontent.com/a-/AOh14GhGfu2HMaWl_Q0Nun8FZ890egbm7-AecA0x1okBizc=s64",
      "userId": "13336827823234602995"
     },
     "user_tz": -540
    },
    "id": "NDu8isyQw5d0",
    "outputId": "95b29079-f114-4036-ffac-9fbd4804cc2a"
   },
   "outputs": [
    {
     "name": "stdout",
     "output_type": "stream",
     "text": [
      "              precision    recall  f1-score   support\n",
      "\n",
      "           0       0.98      0.87      0.92       187\n",
      "           1       0.23      0.64      0.33        11\n",
      "\n",
      "    accuracy                           0.86       198\n",
      "   macro avg       0.60      0.75      0.63       198\n",
      "weighted avg       0.93      0.86      0.89       198\n",
      "\n"
     ]
    }
   ],
   "source": [
    "print(classification_report(y_test,y_pred1))"
   ]
  },
  {
   "cell_type": "code",
   "execution_count": 92,
   "metadata": {
    "colab": {
     "base_uri": "https://localhost:8080/"
    },
    "executionInfo": {
     "elapsed": 714,
     "status": "ok",
     "timestamp": 1607671171133,
     "user": {
      "displayName": "HyangGon JIn",
      "photoUrl": "https://lh3.googleusercontent.com/a-/AOh14GhGfu2HMaWl_Q0Nun8FZ890egbm7-AecA0x1okBizc=s64",
      "userId": "13336827823234602995"
     },
     "user_tz": -540
    },
    "id": "_AE2zH3GrgC2",
    "outputId": "c296ba2f-ab02-436a-86ef-3db8c7ac9ff1"
   },
   "outputs": [
    {
     "data": {
      "text/plain": [
       "LogisticRegression(penalty='none', random_state=1)"
      ]
     },
     "execution_count": 92,
     "metadata": {},
     "output_type": "execute_result"
    }
   ],
   "source": [
    "logit_model2 = LogisticRegression(random_state=1,solver='lbfgs',fit_intercept=True, \n",
    "                                  penalty='none')\n",
    "logit_model2.fit(X_train,y_train) "
   ]
  },
  {
   "cell_type": "code",
   "execution_count": 93,
   "metadata": {
    "colab": {
     "base_uri": "https://localhost:8080/",
     "height": 318
    },
    "executionInfo": {
     "elapsed": 804,
     "status": "ok",
     "timestamp": 1607671172544,
     "user": {
      "displayName": "HyangGon JIn",
      "photoUrl": "https://lh3.googleusercontent.com/a-/AOh14GhGfu2HMaWl_Q0Nun8FZ890egbm7-AecA0x1okBizc=s64",
      "userId": "13336827823234602995"
     },
     "user_tz": -540
    },
    "id": "vS9V5-2Ub5XW",
    "outputId": "4eeb0fa4-3d7a-4ba0-bb1f-5435ba6194dc"
   },
   "outputs": [
    {
     "data": {
      "text/html": [
       "<div>\n",
       "<style scoped>\n",
       "    .dataframe tbody tr th:only-of-type {\n",
       "        vertical-align: middle;\n",
       "    }\n",
       "\n",
       "    .dataframe tbody tr th {\n",
       "        vertical-align: top;\n",
       "    }\n",
       "\n",
       "    .dataframe thead th {\n",
       "        text-align: right;\n",
       "    }\n",
       "</style>\n",
       "<table border=\"1\" class=\"dataframe\">\n",
       "  <thead>\n",
       "    <tr style=\"text-align: right;\">\n",
       "      <th></th>\n",
       "      <th>coef</th>\n",
       "    </tr>\n",
       "  </thead>\n",
       "  <tbody>\n",
       "    <tr>\n",
       "      <th>const</th>\n",
       "      <td>1.911581</td>\n",
       "    </tr>\n",
       "    <tr>\n",
       "      <th>cnt_1st_group_1</th>\n",
       "      <td>-0.195027</td>\n",
       "    </tr>\n",
       "    <tr>\n",
       "      <th>cnt_2nd_group_1</th>\n",
       "      <td>1.247407</td>\n",
       "    </tr>\n",
       "    <tr>\n",
       "      <th>cnt_card_group_1</th>\n",
       "      <td>-2.430345</td>\n",
       "    </tr>\n",
       "    <tr>\n",
       "      <th>cnt_insurance_group_1</th>\n",
       "      <td>-2.023945</td>\n",
       "    </tr>\n",
       "    <tr>\n",
       "      <th>gender_2</th>\n",
       "      <td>-0.941333</td>\n",
       "    </tr>\n",
       "    <tr>\n",
       "      <th>num_loan_group_1</th>\n",
       "      <td>0.099108</td>\n",
       "    </tr>\n",
       "    <tr>\n",
       "      <th>num_loan_group_2</th>\n",
       "      <td>-4.570321</td>\n",
       "    </tr>\n",
       "    <tr>\n",
       "      <th>over_3y_1.0</th>\n",
       "      <td>0.224098</td>\n",
       "    </tr>\n",
       "    <tr>\n",
       "      <th>repay_rate_group_1</th>\n",
       "      <td>0.129981</td>\n",
       "    </tr>\n",
       "    <tr>\n",
       "      <th>repay_rate_group_2</th>\n",
       "      <td>1.108873</td>\n",
       "    </tr>\n",
       "  </tbody>\n",
       "</table>\n",
       "</div>"
      ],
      "text/plain": [
       "                           coef\n",
       "const                  1.911581\n",
       "cnt_1st_group_1       -0.195027\n",
       "cnt_2nd_group_1        1.247407\n",
       "cnt_card_group_1      -2.430345\n",
       "cnt_insurance_group_1 -2.023945\n",
       "gender_2              -0.941333\n",
       "num_loan_group_1       0.099108\n",
       "num_loan_group_2      -4.570321\n",
       "over_3y_1.0            0.224098\n",
       "repay_rate_group_1     0.129981\n",
       "repay_rate_group_2     1.108873"
      ]
     },
     "execution_count": 93,
     "metadata": {},
     "output_type": "execute_result"
    }
   ],
   "source": [
    "pd.concat([pd.DataFrame(logit_model2.intercept_[0],index=['const'],columns=['coef']),pd.DataFrame(logit_model2.coef_[0],index=X_train.columns,columns=['coef'])],axis=0)"
   ]
  },
  {
   "cell_type": "code",
   "execution_count": 94,
   "metadata": {
    "colab": {
     "base_uri": "https://localhost:8080/",
     "height": 339
    },
    "executionInfo": {
     "elapsed": 1023,
     "status": "ok",
     "timestamp": 1607671215402,
     "user": {
      "displayName": "HyangGon JIn",
      "photoUrl": "https://lh3.googleusercontent.com/a-/AOh14GhGfu2HMaWl_Q0Nun8FZ890egbm7-AecA0x1okBizc=s64",
      "userId": "13336827823234602995"
     },
     "user_tz": -540
    },
    "id": "p3OOpo3Pmr0W",
    "outputId": "c203eb8f-4f2e-4a61-8651-d6fcb4f98c14"
   },
   "outputs": [
    {
     "name": "stdout",
     "output_type": "stream",
     "text": [
      "Area under the ROC curve : 0.931027\n",
      "0.07436930476735341\n"
     ]
    },
    {
     "data": {
      "image/png": "[encoded data removed]",
      "text/plain": [
       "<Figure size 432x288 with 1 Axes>"
      ]
     },
     "metadata": {
      "needs_background": "light"
     },
     "output_type": "display_data"
    }
   ],
   "source": [
    "# 출처 : https://stackoverflow.com/questions/28719067/roc-curve-and-cut-off-point-python\n",
    "\n",
    "fpr, tpr, thresholds =roc_curve(y_train, logit_model2.predict_proba(X_train)[:,1])\n",
    "\n",
    "roc_auc = auc(fpr, tpr)\n",
    "print(\"Area under the ROC curve : %f\" % roc_auc)\n",
    "\n",
    "####################################\n",
    "# The optimal cut off would be where tpr is high and fpr is low\n",
    "# tpr - (1-fpr) is zero or near to zero is the optimal cut off point\n",
    "####################################\n",
    "\n",
    "i = np.arange(len(tpr)) \n",
    "roc = pd.DataFrame({'fpr' : pd.Series(fpr, index=i),'tpr' : pd.Series(tpr, index = i), '1-fpr' : pd.Series(1-fpr, index = i), 'tf' : pd.Series(tpr - (1-fpr), index = i), 'thresholds' : pd.Series(thresholds, index = i)})\n",
    "roc.iloc[(roc.tf-0).abs().argsort()[:1]]\n",
    "\n",
    "optimal_idx = np.argmax(tpr - fpr)\n",
    "optimal_threshold_logit2 = thresholds[optimal_idx]\n",
    "print(optimal_threshold_logit2)\n",
    "\n",
    "# Plot tpr vs 1-fpr\n",
    "fig, ax = plt.subplots()\n",
    "plt.plot(roc['tpr'])\n",
    "plt.plot(roc['1-fpr'], color = 'red')\n",
    "plt.xlabel('1-False Positive Rate')\n",
    "plt.ylabel('True Positive Rate')\n",
    "plt.title('Receiver operating characteristic')\n",
    "ax.set_xticklabels([])\n",
    "plt.show()"
   ]
  },
  {
   "cell_type": "code",
   "execution_count": 95,
   "metadata": {
    "id": "rr8gLND1w5ay"
   },
   "outputs": [],
   "source": [
    "y_pred2 = np.where(logit_model2.predict_proba(X_test)[:,1]>optimal_threshold_logit2,1,0)"
   ]
  },
  {
   "cell_type": "code",
   "execution_count": 96,
   "metadata": {
    "colab": {
     "base_uri": "https://localhost:8080/"
    },
    "executionInfo": {
     "elapsed": 942,
     "status": "ok",
     "timestamp": 1607671241554,
     "user": {
      "displayName": "HyangGon JIn",
      "photoUrl": "https://lh3.googleusercontent.com/a-/AOh14GhGfu2HMaWl_Q0Nun8FZ890egbm7-AecA0x1okBizc=s64",
      "userId": "13336827823234602995"
     },
     "user_tz": -540
    },
    "id": "PJ9LfCSHw5Xw",
    "outputId": "6adc58b0-8b05-45f0-e880-fcbb7c98d7a0"
   },
   "outputs": [
    {
     "name": "stdout",
     "output_type": "stream",
     "text": [
      "[[163  24]\n",
      " [  4   7]]\n"
     ]
    }
   ],
   "source": [
    "print(confusion_matrix(y_test,y_pred2))"
   ]
  },
  {
   "cell_type": "code",
   "execution_count": 97,
   "metadata": {
    "colab": {
     "base_uri": "https://localhost:8080/"
    },
    "executionInfo": {
     "elapsed": 596,
     "status": "ok",
     "timestamp": 1607671242753,
     "user": {
      "displayName": "HyangGon JIn",
      "photoUrl": "https://lh3.googleusercontent.com/a-/AOh14GhGfu2HMaWl_Q0Nun8FZ890egbm7-AecA0x1okBizc=s64",
      "userId": "13336827823234602995"
     },
     "user_tz": -540
    },
    "id": "erP4kxJmw5Up",
    "outputId": "f6c15b73-3935-410c-801a-33dd1d97013d"
   },
   "outputs": [
    {
     "name": "stdout",
     "output_type": "stream",
     "text": [
      "              precision    recall  f1-score   support\n",
      "\n",
      "           0       0.98      0.87      0.92       187\n",
      "           1       0.23      0.64      0.33        11\n",
      "\n",
      "    accuracy                           0.86       198\n",
      "   macro avg       0.60      0.75      0.63       198\n",
      "weighted avg       0.93      0.86      0.89       198\n",
      "\n"
     ]
    }
   ],
   "source": [
    "print(classification_report(y_test,y_pred2))"
   ]
  },
  {
   "cell_type": "markdown",
   "metadata": {
    "id": "glmUTj5CP6b1"
   },
   "source": [
    "### RandomForest"
   ]
  },
  {
   "cell_type": "markdown",
   "metadata": {
    "id": "trICfhuAQiEu"
   },
   "source": [
    "#### Parameter Tuning"
   ]
  },
  {
   "cell_type": "code",
   "execution_count": 98,
   "metadata": {
    "id": "fbu3fSG0PU4z"
   },
   "outputs": [],
   "source": [
    "rfm = RandomForestClassifier()"
   ]
  },
  {
   "cell_type": "code",
   "execution_count": 99,
   "metadata": {
    "id": "PBCa4O4mSnPU"
   },
   "outputs": [],
   "source": [
    "params = {\n",
    "          \"n_estimators\": [20,50,100,200],\n",
    "          \"max_depth\" : [30,50,100],\n",
    "          \"min_samples_leaf\" : [3,6,10],\n",
    "\n",
    "          \"criterion\" : ['gini','entropy'], \n",
    "          \"max_features\" : ['sqrt'],\n",
    "          \"bootstrap\" : [True],\n",
    "          \"oob_score\" : [True],\n",
    "          \"n_jobs\" : [-1],\n",
    "          \"random_state\" : [1],\n",
    "         }"
   ]
  },
  {
   "cell_type": "code",
   "execution_count": 100,
   "metadata": {
    "colab": {
     "base_uri": "https://localhost:8080/"
    },
    "executionInfo": {
     "elapsed": 78842,
     "status": "ok",
     "timestamp": 1607671661210,
     "user": {
      "displayName": "HyangGon JIn",
      "photoUrl": "https://lh3.googleusercontent.com/a-/AOh14GhGfu2HMaWl_Q0Nun8FZ890egbm7-AecA0x1okBizc=s64",
      "userId": "13336827823234602995"
     },
     "user_tz": -540
    },
    "id": "CKOs69FGSpfI",
    "outputId": "a24defed-5672-4ca3-a3f8-58feb8172b59"
   },
   "outputs": [
    {
     "name": "stdout",
     "output_type": "stream",
     "text": [
      "Fitting 5 folds for each of 72 candidates, totalling 360 fits\n"
     ]
    },
    {
     "name": "stderr",
     "output_type": "stream",
     "text": [
      "[Parallel(n_jobs=-1)]: Using backend LokyBackend with 8 concurrent workers.\n",
      "[Parallel(n_jobs=-1)]: Done  34 tasks      | elapsed:    3.6s\n",
      "[Parallel(n_jobs=-1)]: Done 184 tasks      | elapsed:   12.9s\n",
      "[Parallel(n_jobs=-1)]: Done 360 out of 360 | elapsed:   24.6s finished\n"
     ]
    }
   ],
   "source": [
    "grid = GridSearchCV(rfm,param_grid=params,n_jobs=-1,cv=5,verbose=1).fit(X_train,y_train)"
   ]
  },
  {
   "cell_type": "code",
   "execution_count": 101,
   "metadata": {
    "colab": {
     "base_uri": "https://localhost:8080/"
    },
    "executionInfo": {
     "elapsed": 820,
     "status": "ok",
     "timestamp": 1607671669154,
     "user": {
      "displayName": "HyangGon JIn",
      "photoUrl": "https://lh3.googleusercontent.com/a-/AOh14GhGfu2HMaWl_Q0Nun8FZ890egbm7-AecA0x1okBizc=s64",
      "userId": "13336827823234602995"
     },
     "user_tz": -540
    },
    "id": "PyTcOJlhTyRc",
    "outputId": "7ffe6ac2-7d63-44ae-d464-b6c4c27a8ef8"
   },
   "outputs": [
    {
     "data": {
      "text/plain": [
       "{'bootstrap': True,\n",
       " 'criterion': 'gini',\n",
       " 'max_depth': 30,\n",
       " 'max_features': 'sqrt',\n",
       " 'min_samples_leaf': 6,\n",
       " 'n_estimators': 20,\n",
       " 'n_jobs': -1,\n",
       " 'oob_score': True,\n",
       " 'random_state': 1}"
      ]
     },
     "execution_count": 101,
     "metadata": {},
     "output_type": "execute_result"
    }
   ],
   "source": [
    "grid.best_params_"
   ]
  },
  {
   "cell_type": "markdown",
   "metadata": {
    "id": "JyRxp-8aQsc8"
   },
   "source": [
    "#### Model Fitting"
   ]
  },
  {
   "cell_type": "code",
   "execution_count": 102,
   "metadata": {
    "colab": {
     "base_uri": "https://localhost:8080/"
    },
    "executionInfo": {
     "elapsed": 984,
     "status": "ok",
     "timestamp": 1607671674877,
     "user": {
      "displayName": "HyangGon JIn",
      "photoUrl": "https://lh3.googleusercontent.com/a-/AOh14GhGfu2HMaWl_Q0Nun8FZ890egbm7-AecA0x1okBizc=s64",
      "userId": "13336827823234602995"
     },
     "user_tz": -540
    },
    "id": "XidPW4X9Zljf",
    "outputId": "d7d8a1fd-b725-4213-8ccd-4118bc447751"
   },
   "outputs": [
    {
     "data": {
      "text/plain": [
       "RandomForestClassifier(max_depth=30, max_features='sqrt', min_samples_leaf=6,\n",
       "                       n_estimators=20, n_jobs=-1, oob_score=True,\n",
       "                       random_state=1)"
      ]
     },
     "execution_count": 102,
     "metadata": {},
     "output_type": "execute_result"
    }
   ],
   "source": [
    "rf_model = RandomForestClassifier(**grid.best_params_,verbose=0)\n",
    "rf_model.fit(X_train,y_train)"
   ]
  },
  {
   "cell_type": "code",
   "execution_count": 103,
   "metadata": {
    "colab": {
     "base_uri": "https://localhost:8080/",
     "height": 339
    },
    "executionInfo": {
     "elapsed": 877,
     "status": "ok",
     "timestamp": 1607672219653,
     "user": {
      "displayName": "HyangGon JIn",
      "photoUrl": "https://lh3.googleusercontent.com/a-/AOh14GhGfu2HMaWl_Q0Nun8FZ890egbm7-AecA0x1okBizc=s64",
      "userId": "13336827823234602995"
     },
     "user_tz": -540
    },
    "id": "qMdSt0aKrxJc",
    "outputId": "07d8487b-db9f-4c07-8172-068da1e7e16d"
   },
   "outputs": [
    {
     "name": "stdout",
     "output_type": "stream",
     "text": [
      "Area under the ROC curve : 0.934821\n",
      "0.06997642918453861\n"
     ]
    },
    {
     "data": {
      "image/png": "[encoded data removed]",
      "text/plain": [
       "<Figure size 432x288 with 1 Axes>"
      ]
     },
     "metadata": {
      "needs_background": "light"
     },
     "output_type": "display_data"
    }
   ],
   "source": [
    "# 출처 : https://stackoverflow.com/questions/28719067/roc-curve-and-cut-off-point-python\n",
    "\n",
    "fpr, tpr, thresholds =roc_curve(y_train, rf_model.predict_proba(X_train)[:,1])\n",
    "\n",
    "roc_auc = auc(fpr, tpr)\n",
    "print(\"Area under the ROC curve : %f\" % roc_auc)\n",
    "\n",
    "####################################\n",
    "# The optimal cut off would be where tpr is high and fpr is low\n",
    "# tpr - (1-fpr) is zero or near to zero is the optimal cut off point\n",
    "####################################\n",
    "\n",
    "i = np.arange(len(tpr)) \n",
    "roc = pd.DataFrame({'fpr' : pd.Series(fpr, index=i),'tpr' : pd.Series(tpr, index = i), '1-fpr' : pd.Series(1-fpr, index = i), 'tf' : pd.Series(tpr - (1-fpr), index = i), 'thresholds' : pd.Series(thresholds, index = i)})\n",
    "roc.iloc[(roc.tf-0).abs().argsort()[:1]]\n",
    "\n",
    "optimal_idx = np.argmax(tpr - fpr)\n",
    "optimal_threshold_rf = thresholds[optimal_idx]\n",
    "print(optimal_threshold_rf)\n",
    "\n",
    "# Plot tpr vs 1-fpr\n",
    "fig, ax = plt.subplots()\n",
    "plt.plot(roc['tpr'])\n",
    "plt.plot(roc['1-fpr'], color = 'red')\n",
    "plt.xlabel('1-False Positive Rate')\n",
    "plt.ylabel('True Positive Rate')\n",
    "plt.title('Receiver operating characteristic')\n",
    "ax.set_xticklabels([])\n",
    "plt.show()"
   ]
  },
  {
   "cell_type": "code",
   "execution_count": 104,
   "metadata": {
    "id": "rTsGRl-3sCmN"
   },
   "outputs": [],
   "source": [
    "y_pred3 = np.where(rf_model.predict_proba(X_test)[:,1]>optimal_threshold_rf,1,0)"
   ]
  },
  {
   "cell_type": "code",
   "execution_count": 105,
   "metadata": {
    "colab": {
     "base_uri": "https://localhost:8080/"
    },
    "executionInfo": {
     "elapsed": 765,
     "status": "ok",
     "timestamp": 1607671908958,
     "user": {
      "displayName": "HyangGon JIn",
      "photoUrl": "https://lh3.googleusercontent.com/a-/AOh14GhGfu2HMaWl_Q0Nun8FZ890egbm7-AecA0x1okBizc=s64",
      "userId": "13336827823234602995"
     },
     "user_tz": -540
    },
    "id": "TLu3a2XdsCmN",
    "outputId": "ce831890-864a-4a9d-9918-b4f2229e5a9f"
   },
   "outputs": [
    {
     "name": "stdout",
     "output_type": "stream",
     "text": [
      "[[174  13]\n",
      " [  2   9]]\n"
     ]
    }
   ],
   "source": [
    "print(confusion_matrix(y_test,y_pred3))"
   ]
  },
  {
   "cell_type": "code",
   "execution_count": 106,
   "metadata": {
    "colab": {
     "base_uri": "https://localhost:8080/"
    },
    "executionInfo": {
     "elapsed": 493,
     "status": "ok",
     "timestamp": 1607671910290,
     "user": {
      "displayName": "HyangGon JIn",
      "photoUrl": "https://lh3.googleusercontent.com/a-/AOh14GhGfu2HMaWl_Q0Nun8FZ890egbm7-AecA0x1okBizc=s64",
      "userId": "13336827823234602995"
     },
     "user_tz": -540
    },
    "id": "XTEF8YyxsCmO",
    "outputId": "4e143cb0-bca6-46de-c9f3-4a892d5604a9"
   },
   "outputs": [
    {
     "name": "stdout",
     "output_type": "stream",
     "text": [
      "              precision    recall  f1-score   support\n",
      "\n",
      "           0       0.99      0.93      0.96       187\n",
      "           1       0.41      0.82      0.55        11\n",
      "\n",
      "    accuracy                           0.92       198\n",
      "   macro avg       0.70      0.87      0.75       198\n",
      "weighted avg       0.96      0.92      0.94       198\n",
      "\n"
     ]
    }
   ],
   "source": [
    "print(classification_report(y_test,y_pred3))"
   ]
  },
  {
   "cell_type": "code",
   "execution_count": null,
   "metadata": {
    "id": "z9SykNTRr-MF"
   },
   "outputs": [],
   "source": []
  },
  {
   "cell_type": "markdown",
   "metadata": {
    "id": "_QScuKt8Vu9d"
   },
   "source": [
    "#### ROC Curve"
   ]
  },
  {
   "cell_type": "code",
   "execution_count": 110,
   "metadata": {
    "id": "qSXdNTLESnSO"
   },
   "outputs": [],
   "source": [
    "from sklearn.metrics import plot_roc_curve"
   ]
  },
  {
   "cell_type": "code",
   "execution_count": 111,
   "metadata": {
    "colab": {
     "base_uri": "https://localhost:8080/",
     "height": 497
    },
    "executionInfo": {
     "elapsed": 1147,
     "status": "ok",
     "timestamp": 1607672404959,
     "user": {
      "displayName": "HyangGon JIn",
      "photoUrl": "https://lh3.googleusercontent.com/a-/AOh14GhGfu2HMaWl_Q0Nun8FZ890egbm7-AecA0x1okBizc=s64",
      "userId": "13336827823234602995"
     },
     "user_tz": -540
    },
    "id": "fbucPj-oSmke",
    "outputId": "a8a3d836-95aa-4f04-e59e-6eadc0295d33"
   },
   "outputs": [
    {
     "data": {
      "image/png": "[encoded data removed]",
      "text/plain": [
       "<Figure size 720x576 with 1 Axes>"
      ]
     },
     "metadata": {
      "needs_background": "light"
     },
     "output_type": "display_data"
    }
   ],
   "source": [
    "fig,ax = plt.subplots(figsize=(10,8))\n",
    "\n",
    "plot_roc_curve(rf_model,X_test,y_test,ax=ax,response_method='predict_proba');\n",
    "plot_roc_curve(logit_model2,X_test,y_test,ax=ax,response_method='predict_proba');\n",
    "# plt.axvline(x=0.15,color='red');"
   ]
  },
  {
   "cell_type": "code",
   "execution_count": 112,
   "metadata": {
    "colab": {
     "base_uri": "https://localhost:8080/"
    },
    "executionInfo": {
     "elapsed": 121783,
     "status": "ok",
     "timestamp": 1607666588020,
     "user": {
      "displayName": "HyangGon JIn",
      "photoUrl": "https://lh3.googleusercontent.com/a-/AOh14GhGfu2HMaWl_Q0Nun8FZ890egbm7-AecA0x1okBizc=s64",
      "userId": "13336827823234602995"
     },
     "user_tz": -540
    },
    "id": "Zxdw-nV544xY",
    "outputId": "e985ea2c-c96a-45cb-bb3f-353cab429059"
   },
   "outputs": [
    {
     "name": "stdout",
     "output_type": "stream",
     "text": [
      "Area under the ROC curve : 0.931027\n"
     ]
    }
   ],
   "source": [
    "from sklearn.metrics import roc_curve, auc\n",
    "\n",
    "fpr, tpr, thresholds =roc_curve(y_train, logit_model2.predict_proba(X_train)[:,1])\n",
    "roc_auc = auc(fpr, tpr)\n",
    "print(\"Area under the ROC curve : %f\" % roc_auc)"
   ]
  },
  {
   "cell_type": "code",
   "execution_count": null,
   "metadata": {
    "id": "Y6SgW3FW72Mq"
   },
   "outputs": [],
   "source": []
  }
 ],
 "metadata": {
  "colab": {
   "authorship_tag": "ABX9TyOiz80Ev3M9dc/X9B1CbggG",
   "collapsed_sections": [
    "J-IQq8vz_rxl",
    "EWOe93qtt3tB",
    "CZK_CJSz2J_z",
    "thxt5BXxrhDV"
   ],
   "mount_file_id": "1ylV2gJnThbn5UjPXDci8ZPLR1Mn79s5b",
   "name": "credb_part2.ipynb",
   "provenance": [],
   "toc_visible": true
  },
  "kernelspec": {
   "display_name": "Python 3",
   "language": "python",
   "name": "python3"
  },
  "language_info": {
   "codemirror_mode": {
    "name": "ipython",
    "version": 3
   },
   "file_extension": ".py",
   "mimetype": "text/x-python",
   "name": "python",
   "nbconvert_exporter": "python",
   "pygments_lexer": "ipython3",
   "version": "3.8.2"
  }
 },
 "nbformat": 4,
 "nbformat_minor": 1
}
